{
 "cells": [
  {
   "cell_type": "markdown",
   "metadata": {},
   "source": [
    "Load modules"
   ]
  },
  {
   "cell_type": "code",
   "execution_count": 1,
   "metadata": {},
   "outputs": [],
   "source": [
    "import os\n",
    "os.environ['TF_CPP_MIN_LOG_LEVEL'] = '2'\n",
    "import datetime\n",
    "from pathlib import Path\n",
    "import IPython\n",
    "import IPython.display\n",
    "import matplotlib as mpl\n",
    "import matplotlib.pyplot as plt\n",
    "import numpy as np\n",
    "import pandas as pd\n",
    "import seaborn as sns\n",
    "import tensorflow as tf\n",
    "\n",
    "#settings\n",
    "#plt.rc('font', size=14) "
   ]
  },
  {
   "cell_type": "markdown",
   "metadata": {},
   "source": [
    "Load data"
   ]
  },
  {
   "cell_type": "code",
   "execution_count": 32,
   "metadata": {},
   "outputs": [
    {
     "data": {
      "text/plain": [
       "(3182307, 25)"
      ]
     },
     "execution_count": 32,
     "metadata": {},
     "output_type": "execute_result"
    }
   ],
   "source": [
    "path = Path(r'/Users/sr2/OneDrive - University College London/PhD/Research/'\n",
    "        'Missions/SWARM/Non-Flight Data/Analysis/Apr-22/data/processing/remove_outliers/')\n",
    "\n",
    "#filename = str(path) + '/15-17-19-21_outliers.csv'\n",
    "filename = str(path) + '/15-21_all-mons_outliers.csv'\n",
    "df = pd.read_csv(filename)\n",
    "df = df.sort_values(by=['Timestamp'], ascending = True)\n",
    "#df = df.iloc[::6] #set resolution\n",
    "df.shape"
   ]
  },
  {
   "cell_type": "markdown",
   "metadata": {},
   "source": [
    "Replace -1 with 0, otherwise its a non-binary problem"
   ]
  },
  {
   "cell_type": "code",
   "execution_count": 33,
   "metadata": {},
   "outputs": [
    {
     "data": {
      "text/plain": [
       "Timestamp     object\n",
       "lat          float64\n",
       "alt          float64\n",
       "o_num          int64\n",
       "abc           object\n",
       "Ne           float64\n",
       "Ne_rod       float64\n",
       "Ne_rod20     float64\n",
       "Ne_del10     float64\n",
       "Ne_del40     float64\n",
       "Te           float64\n",
       "pot          float64\n",
       "bf_iono      float64\n",
       "b_ind          int64\n",
       "b_prob       float64\n",
       "Kp           float64\n",
       "Dst          float64\n",
       "F107         float64\n",
       "sza          float64\n",
       "y_sin        float64\n",
       "y_cos        float64\n",
       "mlt_sin      float64\n",
       "mlt_cos      float64\n",
       "lon_sin      float64\n",
       "lon_cos      float64\n",
       "dtype: object"
      ]
     },
     "execution_count": 33,
     "metadata": {},
     "output_type": "execute_result"
    }
   ],
   "source": [
    "df=df.replace({'b_ind': -1}, 0)\n",
    "df.dtypes\n"
   ]
  },
  {
   "cell_type": "markdown",
   "metadata": {},
   "source": [
    "Remove n/a and non-useful features. This could be elsewhere"
   ]
  },
  {
   "cell_type": "code",
   "execution_count": 19,
   "metadata": {},
   "outputs": [],
   "source": [
    "#df = df[['Timestamp','mlt_sin','mlt_cos','y_sin','y_cos','lon_sin','lon_cos','bf_iono','Ne','Ne_rod','Ne_del10','Kp','F107','b_ind']]"
   ]
  },
  {
   "cell_type": "code",
   "execution_count": 34,
   "metadata": {},
   "outputs": [],
   "source": [
    "df=df.dropna()\n",
    "df = df.sort_values(by=['Timestamp'], ascending = True)\n",
    "time = df.pop('Timestamp')\n",
    "abc = df.pop('abc')\n",
    "lat = df.pop('lat')\n",
    "b_prob = df.pop('b_prob')\n",
    "alt = df.pop('alt')\n"
   ]
  },
  {
   "cell_type": "code",
   "execution_count": 31,
   "metadata": {},
   "outputs": [
    {
     "name": "stdout",
     "output_type": "stream",
     "text": [
      "0          False\n",
      "1          False\n",
      "2          False\n",
      "3          False\n",
      "4          False\n",
      "           ...  \n",
      "3182302     True\n",
      "3182303     True\n",
      "3182304     True\n",
      "3182305     True\n",
      "3182306     True\n",
      "Name: bf_iono, Length: 3182307, dtype: bool\n"
     ]
    }
   ],
   "source": [
    "df = df[df['Time']]\n",
    "print (check_for_nan)"
   ]
  },
  {
   "cell_type": "markdown",
   "metadata": {},
   "source": [
    "Split and normalise the data"
   ]
  },
  {
   "cell_type": "code",
   "execution_count": 35,
   "metadata": {},
   "outputs": [
    {
     "name": "stdout",
     "output_type": "stream",
     "text": [
      "Train set size: 1284220\n",
      "Val set size: 366920\n",
      "Test set size: 183460\n"
     ]
    }
   ],
   "source": [
    "#split\n",
    "column_indices = {name: i for i, name in enumerate(df.columns)}\n",
    "\n",
    "n = len(df)\n",
    "train_df = df[0:int(n*0.7)]\n",
    "val_df = df[int(n*0.7):int(n*0.9)]\n",
    "test_df = df[int(n*0.9):]\n",
    "\n",
    "print ('\\n'.join([\n",
    "    f'Train set size: {len(train_df)}',\n",
    "    f'Val set size: {len(val_df)}',\n",
    "    f'Test set size: {len(test_df)}',\n",
    "    ]))\n",
    "\n",
    "num_features = df.shape[1]\n",
    "\n",
    "'''\n",
    "#norm for std and mean\n",
    "train_mean = train_df.mean()\n",
    "train_std = train_df.std()\n",
    "\n",
    "#Must always use train_mean & train_std so model cannot see any of these vals\n",
    "train_df = (train_df - train_mean) / train_std\n",
    "val_df = (val_df - train_mean) / train_std\n",
    "test_df = (test_df - train_mean) / train_std\n",
    "'''\n",
    "\n",
    "#for 0-1\n",
    "train_max = train_df.max()\n",
    "train_min = train_df.min()\n",
    "\n",
    "train_df = (train_df-train_min) / (train_max-train_min)\n",
    "val_df = (val_df-train_min) / (train_max-train_min)\n",
    "test_df = (test_df-train_min) / (train_max-train_min)\n"
   ]
  },
  {
   "cell_type": "markdown",
   "metadata": {},
   "source": [
    "Visualise the distribution"
   ]
  },
  {
   "cell_type": "code",
   "execution_count": null,
   "metadata": {},
   "outputs": [],
   "source": [
    "'''\n",
    "df_std = (df - train_mean) / train_std\n",
    "df_std = df_std.melt(var_name='Column', value_name='Normalized')\n",
    "plt.figure(figsize=(15, 5), dpi=50)\n",
    "ax = sns.boxplot(x='Column', y='Normalized', data=df_std)\n",
    "_ = ax.set_xticklabels(df.keys(), rotation=90)'''"
   ]
  },
  {
   "cell_type": "code",
   "execution_count": null,
   "metadata": {},
   "outputs": [],
   "source": [
    "'''\n",
    "df_corr = df.corr()\n",
    "plt.figure(figsize=(15,9), dpi=100)\n",
    "mask = np.triu(np.ones_like(df_corr, dtype=bool))\n",
    "sns.heatmap(df_corr, center=0, mask=mask, cbar_kws={\"shrink\": .7},\n",
    "        square=False, linewidths=0.5, annot=True, fmt=\".1f\")'''"
   ]
  },
  {
   "cell_type": "markdown",
   "metadata": {},
   "source": [
    "Select the feature to run"
   ]
  },
  {
   "cell_type": "code",
   "execution_count": 36,
   "metadata": {},
   "outputs": [],
   "source": [
    "feat_to_fore = 'b_ind'"
   ]
  },
  {
   "cell_type": "markdown",
   "metadata": {},
   "source": [
    "Data windowing"
   ]
  },
  {
   "cell_type": "code",
   "execution_count": 37,
   "metadata": {},
   "outputs": [],
   "source": [
    "class WindowGenerator():\n",
    "  def __init__(self, input_width, label_width, shift,\n",
    "               train_df=train_df, val_df=val_df, test_df=test_df,\n",
    "               label_columns=None):\n",
    "    # Store the raw data.\n",
    "    self.train_df = train_df\n",
    "    self.val_df = val_df\n",
    "    self.test_df = test_df\n",
    "\n",
    "    # Work out the label column indices.\n",
    "    self.label_columns = label_columns\n",
    "    if label_columns is not None:\n",
    "      self.label_columns_indices = {name: i for i, name in\n",
    "                                    enumerate(label_columns)}\n",
    "    self.column_indices = {name: i for i, name in\n",
    "                           enumerate(train_df.columns)}\n",
    "\n",
    "    # Work out the window parameters.\n",
    "    self.input_width = input_width\n",
    "    self.label_width = label_width\n",
    "    self.shift = shift\n",
    "\n",
    "    self.total_window_size = input_width + shift\n",
    "\n",
    "    self.input_slice = slice(0, input_width)\n",
    "    self.input_indices = np.arange(self.total_window_size)[self.input_slice]\n",
    "\n",
    "    self.label_start = self.total_window_size - self.label_width\n",
    "    self.labels_slice = slice(self.label_start, None)\n",
    "    self.label_indices = np.arange(self.total_window_size)[self.labels_slice]\n",
    "\n",
    "  def __repr__(self):\n",
    "    return '\\n'.join([\n",
    "        f'Total window size: {self.total_window_size}',\n",
    "        f'Input indices: {self.input_indices}',\n",
    "        f'Label indices: {self.label_indices}',\n",
    "        f'Label column name(s): {self.label_columns}'])\n",
    "\n",
    "\n",
    "        "
   ]
  },
  {
   "cell_type": "markdown",
   "metadata": {},
   "source": [
    "Split the data into a window of inputs (n) and labels (y)"
   ]
  },
  {
   "cell_type": "code",
   "execution_count": 41,
   "metadata": {},
   "outputs": [],
   "source": [
    "def split_window(self, features):\n",
    "  inputs = features[:, self.input_slice, :] #-1 remove b_ind\n",
    "  labels = features[:, self.labels_slice, :]\n",
    "\n",
    "  labels = tf.stack([labels[:, :, self.column_indices[name]] \n",
    "      for name in self.label_columns],axis=-1) #negative values wrap around\n",
    "\n",
    "  #Force update the shape of the tensor\n",
    "  inputs.set_shape([None, self.input_width, None])\n",
    "  labels.set_shape([None, self.label_width, None])\n",
    "\n",
    "\n",
    "  return inputs, labels\n",
    "\n",
    "#add to class\n",
    "WindowGenerator.split_window = split_window"
   ]
  },
  {
   "cell_type": "markdown",
   "metadata": {},
   "source": [
    "Create an example window and plot"
   ]
  },
  {
   "cell_type": "code",
   "execution_count": 42,
   "metadata": {},
   "outputs": [],
   "source": [
    "#Example plot\n",
    "\n",
    "OUT = 45\n",
    "eg_plot = WindowGenerator(input_width=90, label_width=45, shift=45,\n",
    "                     label_columns=[feat_to_fore])\n",
    "end_index = eg_plot.total_window_size\n",
    "\n",
    "#Example plots for testing the plotting function\n",
    "example_window = tf.stack([np.array(train_df[:end_index]),\n",
    "                           np.array(train_df[5100:5100+end_index]),\n",
    "                           np.array(train_df[1300:1300+end_index]),\n",
    "                           np.array(train_df[2500:2500+end_index]),\n",
    "                           np.array(train_df[3700:3700+end_index]),\n",
    "                           np.array(train_df[4900:4900+end_index]),\n",
    "                           ])\n",
    "\n",
    "example_inputs, example_labels = eg_plot.split_window(example_window)\n"
   ]
  },
  {
   "cell_type": "code",
   "execution_count": 43,
   "metadata": {},
   "outputs": [
    {
     "data": {
      "image/png": "[encoded data removed]",
      "text/plain": [
       "<Figure size 1440x864 with 6 Axes>"
      ]
     },
     "metadata": {
      "needs_background": "light"
     },
     "output_type": "display_data"
    }
   ],
   "source": [
    "eg_plot.example = example_inputs, example_labels\n",
    "\n",
    "def plot(self, model=None, plot_col=feat_to_fore , subplot_num=6, cad=1, skip=1):\n",
    "   \n",
    "  inputs, labels = self.example\n",
    "\n",
    "  plt.figure(figsize=(20, 12))\n",
    "  \n",
    "  plot_col_index = self.column_indices[plot_col]\n",
    "\n",
    "  #Extract the mean and stddev values for un-norming \n",
    "  #stddev = train_std[plot_col_index]\n",
    "  #mean = train_mean[plot_col_index]\n",
    "\n",
    "  for n in range(subplot_num):\n",
    "    plt.suptitle(f'Forecasting: EPB Index', y = 0.9, va='top', fontsize=14)\n",
    "    plt.subplot(subplot_num, 2, n+1)\n",
    "\n",
    "    plt.ylabel(f'EPB Index')\n",
    "    \n",
    "    #The inputs\n",
    "    un_norm_inputs = inputs[n,:,plot_col_index]\n",
    "    #un_norm_inputs = (un_norm_inputs * stddev) + mean\n",
    "\n",
    "    plt.plot((self.input_indices*cad)[::skip], un_norm_inputs[::skip],\n",
    "             label='Inputs', marker='.', zorder=-10)\n",
    "\n",
    "    if self.label_columns:\n",
    "      label_col_index = self.label_columns_indices.get(plot_col, None)\n",
    "    else:\n",
    "      label_col_index = plot_col_index\n",
    "\n",
    "    if label_col_index is None:\n",
    "      continue\n",
    "    \n",
    "    #The actual reading\n",
    "    un_norm_labels = labels[n, :, label_col_index]\n",
    "    #un_norm_labels = (un_norm_labels * stddev) + mean\n",
    "\n",
    "    plt.scatter((self.label_indices*cad)[::skip], un_norm_labels[::skip],\n",
    "                edgecolors='k', label='Actual', c='#2ca02c', s=40)\n",
    "    \n",
    "    #The forecast\n",
    "    if model is not None:\n",
    "      predictions = model(inputs)\n",
    "      un_norm_preds = predictions[n, :, label_col_index]\n",
    "      #un_norm_preds = (un_norm_preds * stddev) + mean\n",
    "      plt.rc('font', size=13) \n",
    "      plt.scatter((self.label_indices*cad)[::skip], un_norm_preds[::skip],\n",
    "                  marker='X', edgecolors='k', label='Forecast',\n",
    "                  c='#ff7f0e', s=40)\n",
    "\n",
    "    plt.ylim([-0.1,1.1])\n",
    "    plt.xlabel('Minutes')\n",
    "    if n == 0:\n",
    "      plt.legend()\n",
    "      #plt.tight_layout()\n",
    "\n",
    "\n",
    "WindowGenerator.plot = plot\n",
    "eg_plot.plot()\n"
   ]
  },
  {
   "cell_type": "markdown",
   "metadata": {},
   "source": [
    "Convert the data into a tensorflow time series"
   ]
  },
  {
   "cell_type": "code",
   "execution_count": 44,
   "metadata": {},
   "outputs": [],
   "source": [
    "def make_dataset(self, data, batch_size=32):\n",
    "  data = np.array(data, dtype=np.float32)\n",
    "  ds = tf.keras.utils.timeseries_dataset_from_array(\n",
    "      data=data,\n",
    "      targets=None,\n",
    "      sequence_length=self.total_window_size,\n",
    "      sequence_stride=45, #change this to orbit index\n",
    "      shuffle=True,\n",
    "      batch_size=batch_size,) \n",
    "\n",
    "  ds = ds.map(self.split_window) #excecutes a function for each iterable item\n",
    "\n",
    "  return ds\n",
    "\n",
    "WindowGenerator.make_dataset = make_dataset\n",
    "\n",
    "@property\n",
    "def train(self):\n",
    "  return self.make_dataset(self.train_df)\n",
    "\n",
    "@property\n",
    "def val(self):\n",
    "  return self.make_dataset(self.val_df)\n",
    "\n",
    "@property\n",
    "def test(self):\n",
    "  return self.make_dataset(self.test_df)\n",
    "\n",
    "@property\n",
    "def example(self):\n",
    "  result = next(iter(self.train))\n",
    "  self._example = result\n",
    "  return result\n",
    "\n",
    "'''\n",
    "@property\n",
    "def example(self):\n",
    "  \"\"\"Get and cache an example batch of `inputs, labels` for plotting.\"\"\"\n",
    "  result = getattr(self, '_example', None)\n",
    "  if result is None:\n",
    "    # No example batch was found, so get one from the `.train` dataset\n",
    "    result = next(iter(self.train))\n",
    "    # And cache it for next time\n",
    "    self._example = result\n",
    "  return result'''\n",
    "\n",
    "WindowGenerator.train = train\n",
    "WindowGenerator.val = val\n",
    "WindowGenerator.test = test\n",
    "WindowGenerator.example = example"
   ]
  },
  {
   "cell_type": "code",
   "execution_count": null,
   "metadata": {},
   "outputs": [],
   "source": [
    "'''\n",
    "#inspect the elements in the new dataset format\n",
    "eg_plot.test.element_spec\n",
    "\n",
    "for example_inputs, example_labels in eg_plot.train.take(1):\n",
    "  print(f'Inputs shape (batch, time, features): {example_inputs.shape}')\n",
    "  print(f'Labels shape (batch, time, features): {example_labels.shape}')'''"
   ]
  },
  {
   "cell_type": "markdown",
   "metadata": {},
   "source": [
    "Create a window for modelling and one for plotting"
   ]
  },
  {
   "cell_type": "code",
   "execution_count": 39,
   "metadata": {},
   "outputs": [],
   "source": [
    "#shift = how far into the future\n",
    "\n",
    "OUT_STEPS = 90\n",
    "\n",
    "run_window = WindowGenerator(\n",
    "    input_width=90, label_width=OUT_STEPS, shift=OUT_STEPS,\n",
    "    label_columns=[feat_to_fore])"
   ]
  },
  {
   "cell_type": "markdown",
   "metadata": {},
   "source": [
    "run the model"
   ]
  },
  {
   "cell_type": "code",
   "execution_count": 88,
   "metadata": {},
   "outputs": [
    {
     "name": "stdout",
     "output_type": "stream",
     "text": [
      "Input shape: (32, 90, 20)\n",
      "Model: \"sequential_2\"\n",
      "_________________________________________________________________\n",
      " Layer (type)                Output Shape              Param #   \n",
      "=================================================================\n",
      " lstm_4 (LSTM)               (32, 90, 32)              6784      \n",
      "                                                                 \n",
      " lstm_5 (LSTM)               (32, 90, 16)              3136      \n",
      "                                                                 \n",
      " dense_2 (Dense)             (32, 90, 1)               17        \n",
      "                                                                 \n",
      "=================================================================\n",
      "Total params: 9,937\n",
      "Trainable params: 9,937\n",
      "Non-trainable params: 0\n",
      "_________________________________________________________________\n",
      "None\n",
      "892/892 [==============================] - 43s 44ms/step - loss: 0.0333 - mean_absolute_error: 0.9973 - val_loss: 0.0083 - val_mean_absolute_error: 0.9992\n"
     ]
    }
   ],
   "source": [
    "from keras.models import Sequential\n",
    "from keras.layers import LSTM\n",
    "from keras.layers import Dense\n",
    "from keras.layers import Dropout\n",
    "\n",
    "MAX_EPOCHS = 1\n",
    "\n",
    "def compile_and_fit(model, window, patience=1):\n",
    "  early_stopping = tf.keras.callbacks.EarlyStopping(monitor='val_loss',\n",
    "                                                    patience=patience,\n",
    "                                                    mode='min')\n",
    "  model.compile(\n",
    "                #loss=tf.losses.MeanSquaredError(),\n",
    "                loss = tf.losses.BinaryCrossentropy(),\n",
    "                optimizer=tf.optimizers.Adam(learning_rate=0.001), #default = 0.001\n",
    "                metrics=[tf.metrics.MeanAbsoluteError()])\n",
    "                #metrics=[tf.metrics.AUC(curve='pr')])\n",
    "\n",
    "  print(model.summary())\n",
    "\n",
    "  history = model.fit(window.train, epochs=MAX_EPOCHS,\n",
    "                      validation_data=window.val,\n",
    "                      callbacks=[early_stopping])\n",
    "  return history\n",
    "\n",
    "\n",
    "lstm_model = Sequential([\n",
    "    LSTM(32, return_sequences=True),\n",
    "    LSTM(16, return_sequences=True),\n",
    "    #LSTM(8, return_sequences=True),\n",
    "\n",
    "    #Dropout(rate = .3),\n",
    "    Dense(units=1, activation='softmax')\n",
    "  \n",
    "])\n",
    "\n",
    "'''\n",
    "lstm_model = tf.keras.Sequential([\n",
    "    # Shape [batch, time, features] => [batch, lstm_units].\n",
    "    # Adding more `lstm_units` just overfits more quickly.\n",
    "    tf.keras.layers.LSTM(32, return_sequences=False),\n",
    "    # Shape => [batch, out_steps*features].\n",
    "    tf.keras.layers.Dense(OUT_STEPS*num_features,\n",
    "                          kernel_initializer=tf.initializers.zeros()),\n",
    "    # Shape => [batch, out_steps, features].\n",
    "    tf.keras.layers.Reshape([OUT_STEPS, num_features])\n",
    "])'''\n",
    "\n",
    "#print('Input shape:', run_window.example[0].shape)\n",
    "#print('Output shape:', lstm_model(run_window.example[0]).shape)\n",
    "\n",
    "lstm_model(run_window.example[0]).shape\n",
    "print('Input shape:', run_window.example[0].shape)\n",
    "\n",
    "history = compile_and_fit(lstm_model, run_window)\n",
    "#IPython.display.clear_output()"
   ]
  },
  {
   "cell_type": "code",
   "execution_count": 94,
   "metadata": {},
   "outputs": [
    {
     "data": {
      "image/png": "[encoded data removed]",
      "text/plain": [
       "<Figure size 1440x864 with 6 Axes>"
      ]
     },
     "metadata": {
      "needs_background": "light"
     },
     "output_type": "display_data"
    }
   ],
   "source": [
    "figure = run_window.plot(lstm_model)"
   ]
  },
  {
   "cell_type": "code",
   "execution_count": null,
   "metadata": {},
   "outputs": [],
   "source": [
    "per = history.history\n",
    "loss = per['loss']\n",
    "#mae = per['mean_absolute_error']\n",
    "vloss = per['val_loss']\n",
    "#vmae = per['val_mean_absolute_error']\n",
    "\n",
    "x = np.arange(len(loss))\n",
    "plt.title(f\"Forecasting {feat_to_fore}\", fontsize=14)\n",
    "sns.lineplot(x=x, y=loss, label=\"loss\")\n",
    "sns.lineplot(x=x, y=vloss, label = \"val loss\")\n",
    "\n",
    "plt.xlabel('epoch')\n",
    "plt.ylabel('loss')\n"
   ]
  },
  {
   "cell_type": "code",
   "execution_count": null,
   "metadata": {},
   "outputs": [],
   "source": [
    "x = np.arange(len(loss))\n",
    "sns.lineplot(x=x, y=mae, label=\"mae\")\n",
    "sns.lineplot(x=x, y=vmae, label =\"vmae\")\n",
    "\n",
    "plt.title(f\"Forecasting {feat_to_fore}\", fontsize=14)\n",
    "plt.xlabel('epoch')\n",
    "plt.ylabel('mean sqaure error')"
   ]
  },
  {
   "cell_type": "markdown",
   "metadata": {},
   "source": [
    "Simple model"
   ]
  },
  {
   "cell_type": "code",
   "execution_count": null,
   "metadata": {},
   "outputs": [],
   "source": [
    "class Baseline(tf.keras.Model):\n",
    "  def __init__(self, label_index=None):\n",
    "    super().__init__()\n",
    "    self.label_index = label_index\n",
    "\n",
    "  def call(self, inputs):\n",
    "    if self.label_index is None:\n",
    "      return inputs\n",
    "    result = inputs[:, :, self.label_index]\n",
    "    return result[:, :, tf.newaxis]\n",
    "\n",
    "baseline = Baseline(label_index=column_indices[feat_to_fore])\n",
    "\n",
    "baseline.compile(loss=tf.losses.MeanSquaredError(),\n",
    "                 metrics=[tf.metrics.MeanAbsoluteError()])\n",
    "\n",
    "val_performance = {}\n",
    "performance = {}\n",
    "val_performance['Persistence'] = baseline.evaluate(run_window.val)\n",
    "performance['Persistence'] = baseline.evaluate(run_window.test, verbose=0)"
   ]
  },
  {
   "cell_type": "code",
   "execution_count": null,
   "metadata": {},
   "outputs": [],
   "source": [
    "class RepeatBaseline(tf.keras.Model):\n",
    "  def call(self, inputs):\n",
    "    return inputs\n",
    "\n",
    "repeat_baseline = RepeatBaseline()\n",
    "repeat_baseline.compile(loss=tf.losses.MeanSquaredError(),\n",
    "                        metrics=[tf.metrics.MeanAbsoluteError()])\n",
    "\n",
    "val_performance['Persistence'] = repeat_baseline.evaluate(run_window.val)\n",
    "performance['Persistence'] = repeat_baseline.evaluate(run_window.test, verbose=0)\n",
    "run_window.plot(repeat_baseline)"
   ]
  },
  {
   "cell_type": "code",
   "execution_count": null,
   "metadata": {},
   "outputs": [],
   "source": [
    "plot_window.plot(baseline)"
   ]
  },
  {
   "cell_type": "markdown",
   "metadata": {},
   "source": [
    "Conv Model"
   ]
  },
  {
   "cell_type": "code",
   "execution_count": null,
   "metadata": {},
   "outputs": [],
   "source": [
    "CONV_WIDTH = 90\n",
    "conv_window = WindowGenerator(\n",
    "    input_width=CONV_WIDTH,\n",
    "    label_width=45,\n",
    "    shift=45,\n",
    "    label_columns=[feat_to_fore])\n",
    "\n",
    "conv_window\n",
    "\n",
    "conv_model = tf.keras.Sequential([\n",
    "    tf.keras.layers.Conv1D(filters=32,\n",
    "                           kernel_size=(CONV_WIDTH,),\n",
    "                           activation='relu'),\n",
    "    tf.keras.layers.Dense(units=32, activation='relu'),\n",
    "    tf.keras.layers.Dense(units=1),\n",
    "])\n",
    "\n",
    "print(\"Conv model on `conv_window`\")\n",
    "print('Input shape:', conv_window.example[0].shape)\n",
    "print('Output shape:', conv_model(conv_window.example[0]).shape)\n",
    "\n",
    "history = compile_and_fit(conv_model, conv_window)\n",
    "\n",
    "#IPython.display.clear_output()\n",
    "val_performance['Conv'] = conv_model.evaluate(run_window.val)\n",
    "performance['Conv'] = conv_model.evaluate(run_window.test, verbose=0)"
   ]
  },
  {
   "cell_type": "markdown",
   "metadata": {},
   "source": [
    "Get LSTM performance scores"
   ]
  },
  {
   "cell_type": "code",
   "execution_count": null,
   "metadata": {},
   "outputs": [],
   "source": [
    "\n",
    "#IPython.display.clear_output()\n",
    "val_performance['Conv'] = conv_model.evaluate(run_window.val)\n",
    "performance['Conv'] = conv_model.evaluate(run_window.test, verbose=0)"
   ]
  },
  {
   "cell_type": "code",
   "execution_count": null,
   "metadata": {},
   "outputs": [],
   "source": [
    "val_performance['LSTM'] = lstm_model.evaluate(run_window.val)\n",
    "performance['LSTM'] = lstm_model.evaluate(run_window.test, verbose=0)"
   ]
  },
  {
   "cell_type": "markdown",
   "metadata": {},
   "source": [
    "Compare the performance of the different models"
   ]
  },
  {
   "cell_type": "code",
   "execution_count": null,
   "metadata": {},
   "outputs": [],
   "source": [
    "x = np.arange(len(performance))\n",
    "width = 0.3\n",
    "metric_name = 'mean_absolute_error'\n",
    "metric_index = lstm_model.metrics_names.index('mean_absolute_error')\n",
    "val_mae = [v[metric_index] for v in val_performance.values()]\n",
    "test_mae = [v[metric_index] for v in performance.values()]\n",
    "\n",
    "plt.figure(figsize=(5,3), dpi=100)\n",
    "plt.ylabel(f'mean absolute error [{feat_to_fore}]')\n",
    "plt.bar(x - 0.17, val_mae, width, label='Validation')\n",
    "plt.bar(x + 0.17, test_mae, width, label='Test')\n",
    "plt.xticks(ticks=x, labels=performance.keys(),\n",
    "           rotation=0)\n",
    "_ = plt.legend(loc=\"lower right\")"
   ]
  },
  {
   "cell_type": "code",
   "execution_count": null,
   "metadata": {},
   "outputs": [],
   "source": [
    "import shap\n",
    "#explainer = shap.DeepExplainer(lstm_model, X_train)\n",
    "\n",
    "mod_in = lstm_model.layers[0].input\n",
    "mod_out = lstm_model.layers[-1].output\n",
    "print(mod_out)\n",
    "\n",
    "X_train = np.array(run_window.train)\n",
    "print(X_train)\n",
    "#explainer = shap.DeepExplainer((mod_in, mod_out), X_train)\n",
    "\n",
    "# explain the the testing instances (can use fewer instanaces)\n",
    "# explaining each prediction requires 2 * background dataset size runs\n",
    "#shap_values = explainer.shap_values(X_test)\n",
    "# init the JS visualization code\n",
    "#shap.initjs()\n",
    "#shap.force_plot(explainer.expected_value[0], shap_values[0][0], features)"
   ]
  }
 ],
 "metadata": {
  "interpreter": {
   "hash": "81c9f6066b02e9fc7530c8be7bfedc4bbc1ecba28634dc7aedcbba6cc5ff7208"
  },
  "kernelspec": {
   "display_name": "Python 3.8.13 ('tf_env')",
   "language": "python",
   "name": "python3"
  },
  "language_info": {
   "codemirror_mode": {
    "name": "ipython",
    "version": 3
   },
   "file_extension": ".py",
   "mimetype": "text/x-python",
   "name": "python",
   "nbconvert_exporter": "python",
   "pygments_lexer": "ipython3",
   "version": "3.8.13"
  },
  "orig_nbformat": 4
 },
 "nbformat": 4,
 "nbformat_minor": 2
}
