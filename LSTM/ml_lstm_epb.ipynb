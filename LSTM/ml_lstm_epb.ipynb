{
 "cells": [
  {
   "cell_type": "markdown",
   "metadata": {},
   "source": [
    "Load modules"
   ]
  },
  {
   "cell_type": "code",
   "execution_count": null,
   "metadata": {},
   "outputs": [],
   "source": [
    "import os\n",
    "os.environ['TF_CPP_MIN_LOG_LEVEL'] = '2'\n",
    "import datetime\n",
    "from pathlib import Path\n",
    "import IPython\n",
    "import IPython.display\n",
    "import matplotlib as mpl\n",
    "import matplotlib.pyplot as plt\n",
    "import numpy as np\n",
    "import pandas as pd\n",
    "import seaborn as sns\n",
    "import tensorflow as tf\n",
    "\n",
    "#settings\n",
    "plt.rc('font', size=14) "
   ]
  },
  {
   "cell_type": "markdown",
   "metadata": {},
   "source": [
    "Load data"
   ]
  },
  {
   "cell_type": "code",
   "execution_count": null,
   "metadata": {},
   "outputs": [],
   "source": [
    "path = Path(r'/Users/sr2/OneDrive - University College London/PhD/Research/'\n",
    "        'Missions/SWARM/Non-Flight Data/Analysis/Apr-22/data/processing/remove_outliers/')\n",
    "\n",
    "filename = str(path) + '/2017_eq-sol_outliers.csv'\n",
    "df = pd.read_csv(filename)"
   ]
  },
  {
   "cell_type": "markdown",
   "metadata": {},
   "source": [
    "Final clean / sanity check"
   ]
  },
  {
   "cell_type": "code",
   "execution_count": null,
   "metadata": {},
   "outputs": [],
   "source": [
    "#Check time\n",
    "df = df.sort_values(by=['Timestamp'], ascending = True)"
   ]
  },
  {
   "cell_type": "code",
   "execution_count": null,
   "metadata": {},
   "outputs": [
    {
     "data": {
      "text/plain": [
       "(1967956, 21)"
      ]
     },
     "execution_count": 4,
     "metadata": {},
     "output_type": "execute_result"
    }
   ],
   "source": [
    "abc = df.pop('abc')\n",
    "b_ind = df.pop('b_ind')\n",
    "time = df.pop('Timestamp')\n",
    "\n",
    "df=df.dropna()\n",
    "\n",
    "#Set cadadence\n",
    "df = df.iloc[::]\n",
    "df.shape"
   ]
  },
  {
   "cell_type": "markdown",
   "metadata": {},
   "source": [
    "Split and normalise the data"
   ]
  },
  {
   "cell_type": "code",
   "execution_count": null,
   "metadata": {},
   "outputs": [
    {
     "name": "stdout",
     "output_type": "stream",
     "text": [
      "Train set size: 1377569\n",
      "Val set size: 393591\n",
      "Test set size: 196796\n"
     ]
    }
   ],
   "source": [
    "#split\n",
    "column_indices = {name: i for i, name in enumerate(df.columns)}\n",
    "\n",
    "n = len(df)\n",
    "train_df = df[0:int(n*0.7)]\n",
    "val_df = df[int(n*0.7):int(n*0.9)]\n",
    "test_df = df[int(n*0.9):]\n",
    "\n",
    "print ('\\n'.join([\n",
    "    f'Train set size: {len(train_df)}',\n",
    "    f'Val set size: {len(val_df)}',\n",
    "    f'Test set size: {len(test_df)}',\n",
    "    ]))\n",
    "\n",
    "num_features = df.shape[1]\n",
    "\n",
    "\n",
    "train_mean = train_df.mean()\n",
    "train_std = train_df.std()\n",
    "\n",
    "#Must always use train_mean & train_std so model cannot see any of these vals\n",
    "train_df = (train_df - train_mean) / train_std\n",
    "val_df = (val_df - train_mean) / train_std\n",
    "test_df = (test_df - train_mean) / train_std\n"
   ]
  },
  {
   "cell_type": "markdown",
   "metadata": {},
   "source": [
    "Visualise the distribution"
   ]
  },
  {
   "cell_type": "code",
   "execution_count": null,
   "metadata": {},
   "outputs": [],
   "source": [
    "df_std = (df - train_mean) / train_std\n",
    "df_std = df_std.melt(var_name='Column', value_name='Normalized')\n",
    "plt.figure(figsize=(15, 5), dpi=50)\n",
    "ax = sns.boxplot(x='Column', y='Normalized', data=df_std)\n",
    "_ = ax.set_xticklabels(df.keys(), rotation=90)"
   ]
  },
  {
   "cell_type": "markdown",
   "metadata": {},
   "source": [
    "Select feature(s) to forecast"
   ]
  },
  {
   "cell_type": "code",
   "execution_count": 2,
   "metadata": {},
   "outputs": [],
   "source": [
    "feat_to_fore = 'Ne'"
   ]
  },
  {
   "cell_type": "markdown",
   "metadata": {},
   "source": [
    "Data windowing"
   ]
  },
  {
   "cell_type": "code",
   "execution_count": 3,
   "metadata": {},
   "outputs": [
    {
     "ename": "NameError",
     "evalue": "name 'train_df' is not defined",
     "output_type": "error",
     "traceback": [
      "\u001b[0;31m---------------------------------------------------------------------------\u001b[0m",
      "\u001b[0;31mNameError\u001b[0m                                 Traceback (most recent call last)",
      "\u001b[1;32m/Users/sr2/OneDrive - University College London/PhD/Research/Missions/SWARM/VSCode/SWARM_ML/SWARM_ML/ML/ml_lstm_epb.ipynb Cell 15'\u001b[0m in \u001b[0;36m<cell line: 1>\u001b[0;34m()\u001b[0m\n\u001b[0;32m----> <a href='vscode-notebook-cell:/Users/sr2/OneDrive%20-%20University%20College%20London/PhD/Research/Missions/SWARM/VSCode/SWARM_ML/SWARM_ML/ML/ml_lstm_epb.ipynb#ch0000014?line=0'>1</a>\u001b[0m \u001b[39mclass\u001b[39;00m \u001b[39mWindowGenerator\u001b[39;00m():\n\u001b[1;32m      <a href='vscode-notebook-cell:/Users/sr2/OneDrive%20-%20University%20College%20London/PhD/Research/Missions/SWARM/VSCode/SWARM_ML/SWARM_ML/ML/ml_lstm_epb.ipynb#ch0000014?line=1'>2</a>\u001b[0m   \u001b[39mdef\u001b[39;00m \u001b[39m__init__\u001b[39m(\u001b[39mself\u001b[39m, input_width, label_width, shift,\n\u001b[1;32m      <a href='vscode-notebook-cell:/Users/sr2/OneDrive%20-%20University%20College%20London/PhD/Research/Missions/SWARM/VSCode/SWARM_ML/SWARM_ML/ML/ml_lstm_epb.ipynb#ch0000014?line=2'>3</a>\u001b[0m                train_df\u001b[39m=\u001b[39mtrain_df, val_df\u001b[39m=\u001b[39mval_df, test_df\u001b[39m=\u001b[39mtest_df,\n\u001b[1;32m      <a href='vscode-notebook-cell:/Users/sr2/OneDrive%20-%20University%20College%20London/PhD/Research/Missions/SWARM/VSCode/SWARM_ML/SWARM_ML/ML/ml_lstm_epb.ipynb#ch0000014?line=3'>4</a>\u001b[0m                label_columns\u001b[39m=\u001b[39m\u001b[39mNone\u001b[39;00m):\n\u001b[1;32m      <a href='vscode-notebook-cell:/Users/sr2/OneDrive%20-%20University%20College%20London/PhD/Research/Missions/SWARM/VSCode/SWARM_ML/SWARM_ML/ML/ml_lstm_epb.ipynb#ch0000014?line=4'>5</a>\u001b[0m     \u001b[39m# Store the raw data.\u001b[39;00m\n\u001b[1;32m      <a href='vscode-notebook-cell:/Users/sr2/OneDrive%20-%20University%20College%20London/PhD/Research/Missions/SWARM/VSCode/SWARM_ML/SWARM_ML/ML/ml_lstm_epb.ipynb#ch0000014?line=5'>6</a>\u001b[0m     \u001b[39mself\u001b[39m\u001b[39m.\u001b[39mtrain_df \u001b[39m=\u001b[39m train_df\n",
      "\u001b[1;32m/Users/sr2/OneDrive - University College London/PhD/Research/Missions/SWARM/VSCode/SWARM_ML/SWARM_ML/ML/ml_lstm_epb.ipynb Cell 15'\u001b[0m in \u001b[0;36mWindowGenerator\u001b[0;34m()\u001b[0m\n\u001b[1;32m      <a href='vscode-notebook-cell:/Users/sr2/OneDrive%20-%20University%20College%20London/PhD/Research/Missions/SWARM/VSCode/SWARM_ML/SWARM_ML/ML/ml_lstm_epb.ipynb#ch0000014?line=0'>1</a>\u001b[0m \u001b[39mclass\u001b[39;00m \u001b[39mWindowGenerator\u001b[39;00m():\n\u001b[1;32m      <a href='vscode-notebook-cell:/Users/sr2/OneDrive%20-%20University%20College%20London/PhD/Research/Missions/SWARM/VSCode/SWARM_ML/SWARM_ML/ML/ml_lstm_epb.ipynb#ch0000014?line=1'>2</a>\u001b[0m   \u001b[39mdef\u001b[39;00m \u001b[39m__init__\u001b[39m(\u001b[39mself\u001b[39m, input_width, label_width, shift,\n\u001b[0;32m----> <a href='vscode-notebook-cell:/Users/sr2/OneDrive%20-%20University%20College%20London/PhD/Research/Missions/SWARM/VSCode/SWARM_ML/SWARM_ML/ML/ml_lstm_epb.ipynb#ch0000014?line=2'>3</a>\u001b[0m                train_df\u001b[39m=\u001b[39mtrain_df, val_df\u001b[39m=\u001b[39mval_df, test_df\u001b[39m=\u001b[39mtest_df,\n\u001b[1;32m      <a href='vscode-notebook-cell:/Users/sr2/OneDrive%20-%20University%20College%20London/PhD/Research/Missions/SWARM/VSCode/SWARM_ML/SWARM_ML/ML/ml_lstm_epb.ipynb#ch0000014?line=3'>4</a>\u001b[0m                label_columns\u001b[39m=\u001b[39m\u001b[39mNone\u001b[39;00m):\n\u001b[1;32m      <a href='vscode-notebook-cell:/Users/sr2/OneDrive%20-%20University%20College%20London/PhD/Research/Missions/SWARM/VSCode/SWARM_ML/SWARM_ML/ML/ml_lstm_epb.ipynb#ch0000014?line=4'>5</a>\u001b[0m     \u001b[39m# Store the raw data.\u001b[39;00m\n\u001b[1;32m      <a href='vscode-notebook-cell:/Users/sr2/OneDrive%20-%20University%20College%20London/PhD/Research/Missions/SWARM/VSCode/SWARM_ML/SWARM_ML/ML/ml_lstm_epb.ipynb#ch0000014?line=5'>6</a>\u001b[0m     \u001b[39mself\u001b[39m\u001b[39m.\u001b[39mtrain_df \u001b[39m=\u001b[39m train_df\n\u001b[1;32m      <a href='vscode-notebook-cell:/Users/sr2/OneDrive%20-%20University%20College%20London/PhD/Research/Missions/SWARM/VSCode/SWARM_ML/SWARM_ML/ML/ml_lstm_epb.ipynb#ch0000014?line=6'>7</a>\u001b[0m     \u001b[39mself\u001b[39m\u001b[39m.\u001b[39mval_df \u001b[39m=\u001b[39m val_df\n",
      "\u001b[0;31mNameError\u001b[0m: name 'train_df' is not defined"
     ]
    }
   ],
   "source": [
    "class WindowGenerator():\n",
    "  def __init__(self, input_width, label_width, shift,\n",
    "               train_df=train_df, val_df=val_df, test_df=test_df,\n",
    "               label_columns=None):\n",
    "    # Store the raw data.\n",
    "    self.train_df = train_df\n",
    "    self.val_df = val_df\n",
    "    self.test_df = test_df\n",
    "\n",
    "    # Work out the label column indices.\n",
    "    self.label_columns = label_columns\n",
    "    if label_columns is not None:\n",
    "      self.label_columns_indices = {name: i for i, name in\n",
    "                                    enumerate(label_columns)}\n",
    "    self.column_indices = {name: i for i, name in\n",
    "                           enumerate(train_df.columns)}\n",
    "\n",
    "    # Work out the window parameters.\n",
    "    self.input_width = input_width\n",
    "    self.label_width = label_width\n",
    "    self.shift = shift\n",
    "\n",
    "    self.total_window_size = input_width + shift\n",
    "\n",
    "    self.input_slice = slice(0, input_width)\n",
    "    self.input_indices = np.arange(self.total_window_size)[self.input_slice]\n",
    "\n",
    "    self.label_start = self.total_window_size - self.label_width\n",
    "    self.labels_slice = slice(self.label_start, None)\n",
    "    self.label_indices = np.arange(self.total_window_size)[self.labels_slice]\n",
    "\n",
    "  def __repr__(self):\n",
    "    return '\\n'.join([\n",
    "        f'Total window size: {self.total_window_size}',\n",
    "        f'Input indices: {self.input_indices}',\n",
    "        f'Label indices: {self.label_indices}',\n",
    "        f'Label column name(s): {self.label_columns}'])"
   ]
  },
  {
   "cell_type": "code",
   "execution_count": 8,
   "metadata": {},
   "outputs": [
    {
     "data": {
      "text/plain": [
       "Total window size: 720\n",
       "Input indices: [  0   1   2   3   4   5   6   7   8   9  10  11  12  13  14  15  16  17\n",
       "  18  19  20  21  22  23  24  25  26  27  28  29  30  31  32  33  34  35\n",
       "  36  37  38  39  40  41  42  43  44  45  46  47  48  49  50  51  52  53\n",
       "  54  55  56  57  58  59  60  61  62  63  64  65  66  67  68  69  70  71\n",
       "  72  73  74  75  76  77  78  79  80  81  82  83  84  85  86  87  88  89\n",
       "  90  91  92  93  94  95  96  97  98  99 100 101 102 103 104 105 106 107\n",
       " 108 109 110 111 112 113 114 115 116 117 118 119 120 121 122 123 124 125\n",
       " 126 127 128 129 130 131 132 133 134 135 136 137 138 139 140 141 142 143\n",
       " 144 145 146 147 148 149 150 151 152 153 154 155 156 157 158 159 160 161\n",
       " 162 163 164 165 166 167 168 169 170 171 172 173 174 175 176 177 178 179]\n",
       "Label indices: [180 181 182 183 184 185 186 187 188 189 190 191 192 193 194 195 196 197\n",
       " 198 199 200 201 202 203 204 205 206 207 208 209 210 211 212 213 214 215\n",
       " 216 217 218 219 220 221 222 223 224 225 226 227 228 229 230 231 232 233\n",
       " 234 235 236 237 238 239 240 241 242 243 244 245 246 247 248 249 250 251\n",
       " 252 253 254 255 256 257 258 259 260 261 262 263 264 265 266 267 268 269\n",
       " 270 271 272 273 274 275 276 277 278 279 280 281 282 283 284 285 286 287\n",
       " 288 289 290 291 292 293 294 295 296 297 298 299 300 301 302 303 304 305\n",
       " 306 307 308 309 310 311 312 313 314 315 316 317 318 319 320 321 322 323\n",
       " 324 325 326 327 328 329 330 331 332 333 334 335 336 337 338 339 340 341\n",
       " 342 343 344 345 346 347 348 349 350 351 352 353 354 355 356 357 358 359\n",
       " 360 361 362 363 364 365 366 367 368 369 370 371 372 373 374 375 376 377\n",
       " 378 379 380 381 382 383 384 385 386 387 388 389 390 391 392 393 394 395\n",
       " 396 397 398 399 400 401 402 403 404 405 406 407 408 409 410 411 412 413\n",
       " 414 415 416 417 418 419 420 421 422 423 424 425 426 427 428 429 430 431\n",
       " 432 433 434 435 436 437 438 439 440 441 442 443 444 445 446 447 448 449\n",
       " 450 451 452 453 454 455 456 457 458 459 460 461 462 463 464 465 466 467\n",
       " 468 469 470 471 472 473 474 475 476 477 478 479 480 481 482 483 484 485\n",
       " 486 487 488 489 490 491 492 493 494 495 496 497 498 499 500 501 502 503\n",
       " 504 505 506 507 508 509 510 511 512 513 514 515 516 517 518 519 520 521\n",
       " 522 523 524 525 526 527 528 529 530 531 532 533 534 535 536 537 538 539\n",
       " 540 541 542 543 544 545 546 547 548 549 550 551 552 553 554 555 556 557\n",
       " 558 559 560 561 562 563 564 565 566 567 568 569 570 571 572 573 574 575\n",
       " 576 577 578 579 580 581 582 583 584 585 586 587 588 589 590 591 592 593\n",
       " 594 595 596 597 598 599 600 601 602 603 604 605 606 607 608 609 610 611\n",
       " 612 613 614 615 616 617 618 619 620 621 622 623 624 625 626 627 628 629\n",
       " 630 631 632 633 634 635 636 637 638 639 640 641 642 643 644 645 646 647\n",
       " 648 649 650 651 652 653 654 655 656 657 658 659 660 661 662 663 664 665\n",
       " 666 667 668 669 670 671 672 673 674 675 676 677 678 679 680 681 682 683\n",
       " 684 685 686 687 688 689 690 691 692 693 694 695 696 697 698 699 700 701\n",
       " 702 703 704 705 706 707 708 709 710 711 712 713 714 715 716 717 718 719]\n",
       "Label column name(s): ['Ne']"
      ]
     },
     "execution_count": 8,
     "metadata": {},
     "output_type": "execute_result"
    }
   ],
   "source": [
    "#shift = how many values into the future\n",
    "\n",
    "OUT = 540\n",
    "eg_plot = WindowGenerator(input_width=180, label_width=OUT, shift=OUT,\n",
    "                     label_columns=[feat_to_fore])\n",
    "eg_plot"
   ]
  },
  {
   "cell_type": "markdown",
   "metadata": {},
   "source": [
    "Split the data into a window of inputs (n) and labels (y)"
   ]
  },
  {
   "cell_type": "code",
   "execution_count": 9,
   "metadata": {},
   "outputs": [],
   "source": [
    "def split_window(self, features):\n",
    "  inputs = features[:, self.input_slice, :]\n",
    "  labels = features[:, self.labels_slice, :]\n",
    "\n",
    "  labels = tf.stack([labels[:, :, self.column_indices[name]] \n",
    "      for name in self.label_columns],axis=-1)\n",
    "\n",
    "  #Force update the shape of the tensor\n",
    "  inputs.set_shape([None, self.input_width, None])\n",
    "  labels.set_shape([None, self.label_width, None])\n",
    "\n",
    "  return inputs, labels\n",
    "\n",
    "#add to class\n",
    "WindowGenerator.split_window = split_window"
   ]
  },
  {
   "cell_type": "markdown",
   "metadata": {},
   "source": [
    "Create an example window and plot"
   ]
  },
  {
   "cell_type": "code",
   "execution_count": 11,
   "metadata": {},
   "outputs": [
    {
     "name": "stdout",
     "output_type": "stream",
     "text": [
      "All shapes are: (\"batch\" size, time (input width), # features)\n",
      "Window shape: (4, 720, 21)\n",
      "Inputs shape: (4, 180, 21)\n",
      "Labels shape: (4, 540, 1)\n"
     ]
    },
    {
     "ename": "TypeError",
     "evalue": "'float' object is not subscriptable",
     "output_type": "error",
     "traceback": [
      "\u001b[0;31m---------------------------------------------------------------------------\u001b[0m",
      "\u001b[0;31mTypeError\u001b[0m                                 Traceback (most recent call last)",
      "\u001b[1;32m/Users/sr2/OneDrive - University College London/PhD/Research/Missions/SWARM/VSCode/SWARM_ML/SWARM_ML/ML/ml_lstm_epb.ipynb Cell 20'\u001b[0m in \u001b[0;36m<cell line: 76>\u001b[0;34m()\u001b[0m\n\u001b[1;32m     <a href='vscode-notebook-cell:/Users/sr2/OneDrive%20-%20University%20College%20London/PhD/Research/Missions/SWARM/VSCode/SWARM_ML/SWARM_ML/ML/ml_lstm_epb.ipynb#ch0000018?line=72'>73</a>\u001b[0m   plt\u001b[39m.\u001b[39mxlabel(\u001b[39m'\u001b[39m\u001b[39mMinutes\u001b[39m\u001b[39m'\u001b[39m)\n\u001b[1;32m     <a href='vscode-notebook-cell:/Users/sr2/OneDrive%20-%20University%20College%20London/PhD/Research/Missions/SWARM/VSCode/SWARM_ML/SWARM_ML/ML/ml_lstm_epb.ipynb#ch0000018?line=74'>75</a>\u001b[0m WindowGenerator\u001b[39m.\u001b[39mplot \u001b[39m=\u001b[39m plot\n\u001b[0;32m---> <a href='vscode-notebook-cell:/Users/sr2/OneDrive%20-%20University%20College%20London/PhD/Research/Missions/SWARM/VSCode/SWARM_ML/SWARM_ML/ML/ml_lstm_epb.ipynb#ch0000018?line=75'>76</a>\u001b[0m eg_plot\u001b[39m.\u001b[39;49mplot()\n",
      "\u001b[1;32m/Users/sr2/OneDrive - University College London/PhD/Research/Missions/SWARM/VSCode/SWARM_ML/SWARM_ML/ML/ml_lstm_epb.ipynb Cell 20'\u001b[0m in \u001b[0;36mplot\u001b[0;34m(self, model, plot_col, max_subplots, cad)\u001b[0m\n\u001b[1;32m     <a href='vscode-notebook-cell:/Users/sr2/OneDrive%20-%20University%20College%20London/PhD/Research/Missions/SWARM/VSCode/SWARM_ML/SWARM_ML/ML/ml_lstm_epb.ipynb#ch0000018?line=35'>36</a>\u001b[0m plt\u001b[39m.\u001b[39msubplot(max_n, \u001b[39m1\u001b[39m, n\u001b[39m+\u001b[39m\u001b[39m1\u001b[39m)\n\u001b[1;32m     <a href='vscode-notebook-cell:/Users/sr2/OneDrive%20-%20University%20College%20London/PhD/Research/Missions/SWARM/VSCode/SWARM_ML/SWARM_ML/ML/ml_lstm_epb.ipynb#ch0000018?line=36'>37</a>\u001b[0m plt\u001b[39m.\u001b[39mylabel(\u001b[39mf\u001b[39m\u001b[39m'\u001b[39m\u001b[39m{\u001b[39;00mplot_col\u001b[39m}\u001b[39;00m\u001b[39m [norm]\u001b[39m\u001b[39m'\u001b[39m)\n\u001b[0;32m---> <a href='vscode-notebook-cell:/Users/sr2/OneDrive%20-%20University%20College%20London/PhD/Research/Missions/SWARM/VSCode/SWARM_ML/SWARM_ML/ML/ml_lstm_epb.ipynb#ch0000018?line=37'>38</a>\u001b[0m plt\u001b[39m.\u001b[39mplot(\u001b[39mself\u001b[39m\u001b[39m.\u001b[39minput_indices\u001b[39m*\u001b[39mcad[::\u001b[39m6\u001b[39;49m], inputs[n, :, plot_col_index][::\u001b[39m6\u001b[39m],\n\u001b[1;32m     <a href='vscode-notebook-cell:/Users/sr2/OneDrive%20-%20University%20College%20London/PhD/Research/Missions/SWARM/VSCode/SWARM_ML/SWARM_ML/ML/ml_lstm_epb.ipynb#ch0000018?line=38'>39</a>\u001b[0m          label\u001b[39m=\u001b[39m\u001b[39m'\u001b[39m\u001b[39mInputs\u001b[39m\u001b[39m'\u001b[39m, marker\u001b[39m=\u001b[39m\u001b[39m'\u001b[39m\u001b[39m.\u001b[39m\u001b[39m'\u001b[39m, zorder\u001b[39m=\u001b[39m\u001b[39m-\u001b[39m\u001b[39m10\u001b[39m)\n\u001b[1;32m     <a href='vscode-notebook-cell:/Users/sr2/OneDrive%20-%20University%20College%20London/PhD/Research/Missions/SWARM/VSCode/SWARM_ML/SWARM_ML/ML/ml_lstm_epb.ipynb#ch0000018?line=40'>41</a>\u001b[0m \u001b[39m#label_col_index = plot_col_index\u001b[39;00m\n\u001b[1;32m     <a href='vscode-notebook-cell:/Users/sr2/OneDrive%20-%20University%20College%20London/PhD/Research/Missions/SWARM/VSCode/SWARM_ML/SWARM_ML/ML/ml_lstm_epb.ipynb#ch0000018?line=43'>44</a>\u001b[0m \u001b[39mif\u001b[39;00m \u001b[39mself\u001b[39m\u001b[39m.\u001b[39mlabel_columns:\n",
      "\u001b[0;31mTypeError\u001b[0m: 'float' object is not subscriptable"
     ]
    },
    {
     "data": {
      "image/png": "[encoded data removed]",
      "text/plain": [
       "<Figure size 936x1116 with 1 Axes>"
      ]
     },
     "metadata": {
      "needs_background": "light"
     },
     "output_type": "display_data"
    }
   ],
   "source": [
    "# Stack three slices, the length of the total window.\n",
    "end_index = eg_plot.total_window_size\n",
    "\n",
    "#1000:1000 cannot exceed df.shape[0] aka the row length\n",
    "example_window = tf.stack([np.array(train_df[:end_index]),\n",
    "                           np.array(train_df[1000:1000+end_index]),\n",
    "                           #np.array(train_df[100:1700+end_index]),\n",
    "                           np.array(train_df[900:900+end_index]),\n",
    "                           np.array(train_df[700:700+end_index])\n",
    "                           ])\n",
    "\n",
    "example_inputs, example_labels = eg_plot.split_window(example_window)\n",
    "\n",
    "print('All shapes are: (\"batch\" size, time (input width), # features)')\n",
    "print ('\\n'.join([\n",
    "    f'Window shape: {example_window.shape}',\n",
    "    f'Inputs shape: {example_inputs.shape}',\n",
    "    f'Labels shape: {example_labels.shape}',\n",
    "    ]))\n",
    "\n",
    "eg_plot.example = example_inputs, example_labels\n",
    "\n",
    "def plot_example()\n",
    "\n",
    "def plot(self, model=None, plot_col=feat_to_fore , max_subplots=6, cad=0.06):\n",
    "   \n",
    "  inputs, labels = self.example\n",
    "\n",
    "  #inputs = (inputs * train_std) + train_mean\n",
    "  #labels = (labels * train_std) + train_mean\n",
    "\n",
    "  plt.figure(figsize=(13, 15.5))\n",
    "  plot_col_index = self.column_indices[plot_col]\n",
    "  max_n = min(max_subplots, len(inputs))\n",
    "  for n in range(max_n):\n",
    "    #plt.title(\"Forecasting {}\")\n",
    "    plt.suptitle(f'Forecasting: {feat_to_fore}', y = 0.9, va='top')\n",
    "    plt.subplot(max_n, 1, n+1)\n",
    "    plt.ylabel(f'{plot_col} [norm]')\n",
    "    plt.plot(self.input_indices*cad[::6], inputs[n, :, plot_col_index],\n",
    "             label='Inputs', marker='.', zorder=-10)\n",
    "\n",
    "    #label_col_index = plot_col_index\n",
    "\n",
    "\n",
    "    if self.label_columns:\n",
    "      label_col_index = self.label_columns_indices.get(plot_col, None)\n",
    "      #print(label_col_index)\n",
    "    else:\n",
    "      label_col_index = plot_col_index\n",
    "\n",
    "    if label_col_index is None:\n",
    "      continue\n",
    "\n",
    "    #print(label_col_index)\n",
    "\n",
    "    #label_col_index = plot_col_index\n",
    "    \n",
    "    plt.rc('font', size=13) \n",
    "    plt.scatter(self.label_indices*cad, labels[n, :, label_col_index],\n",
    "                edgecolors='k', label='Labels', c='#2ca02c', s=64)\n",
    "    if model is not None:\n",
    "      predictions = model(inputs)\n",
    "      #predictions = (predictions * train_std) + train_mean\n",
    "      plt.rc('font', size=13) \n",
    "      plt.scatter(self.label_indices*cad, predictions[n, :, label_col_index],\n",
    "                  marker='X', edgecolors='k', label='Predictions',\n",
    "                  c='#ff7f0e', s=64)\n",
    "\n",
    "      #plt.yscale('log')\n",
    "\n",
    "    if n == 0:\n",
    "      plt.legend()\n",
    "\n",
    "  plt.xlabel('Minutes')\n",
    "\n",
    "WindowGenerator.plot = plot\n",
    "eg_plot.plot()\n"
   ]
  },
  {
   "cell_type": "markdown",
   "metadata": {},
   "source": [
    "Convert the data into a tensorflow time series"
   ]
  },
  {
   "cell_type": "code",
   "execution_count": null,
   "metadata": {},
   "outputs": [],
   "source": [
    "def make_dataset(self, data, batch_size=32):\n",
    "  data = np.array(data, dtype=np.float32)\n",
    "  ds = tf.keras.utils.timeseries_dataset_from_array(\n",
    "      data=data,\n",
    "      targets=None,\n",
    "      sequence_length=self.total_window_size,\n",
    "      sequence_stride=1,\n",
    "      shuffle=True,\n",
    "      batch_size=batch_size,)\n",
    "\n",
    "  ds = ds.map(self.split_window)\n",
    "\n",
    "  return ds\n",
    "\n",
    "WindowGenerator.make_dataset = make_dataset\n",
    "\n",
    "@property\n",
    "def train(self):\n",
    "  return self.make_dataset(self.train_df)\n",
    "\n",
    "@property\n",
    "def val(self):\n",
    "  return self.make_dataset(self.val_df)\n",
    "\n",
    "@property\n",
    "def test(self):\n",
    "  return self.make_dataset(self.test_df)\n",
    "\n",
    "@property\n",
    "def example(self):\n",
    "  \"\"\"Get and cache an example batch of `inputs, labels` for plotting.\"\"\"\n",
    "  result = getattr(self, '_example', None)\n",
    "  if result is None:\n",
    "    # No example batch was found, so get one from the `.train` dataset\n",
    "    result = next(iter(self.train))\n",
    "    # And cache it for next time\n",
    "    self._example = result\n",
    "  return result\n",
    "\n",
    "WindowGenerator.train = train\n",
    "WindowGenerator.val = val\n",
    "WindowGenerator.test = test\n",
    "WindowGenerator.example = example"
   ]
  },
  {
   "cell_type": "code",
   "execution_count": null,
   "metadata": {},
   "outputs": [],
   "source": [
    "'''\n",
    "#inspect the elements in the new dataset format\n",
    "eg_plot.test.element_spec\n",
    "\n",
    "for example_inputs, example_labels in eg_plot.train.take(1):\n",
    "  print(f'Inputs shape (batch, time, features): {example_inputs.shape}')\n",
    "  print(f'Labels shape (batch, time, features): {example_labels.shape}')'''"
   ]
  },
  {
   "cell_type": "markdown",
   "metadata": {},
   "source": [
    "Create a window for modelling and one for plotting"
   ]
  },
  {
   "cell_type": "code",
   "execution_count": null,
   "metadata": {},
   "outputs": [],
   "source": [
    "#shift = how far into the future\n",
    "\n",
    "OUT_STEPS = 540\n",
    "plot_window = WindowGenerator(\n",
    "    input_width=180, label_width=OUT_STEPS, shift=OUT_STEPS,\n",
    "    label_columns=[feat_to_fore])\n",
    "\n",
    "run_window = WindowGenerator(\n",
    "    input_width=180, label_width=OUT_STEPS, shift=OUT_STEPS,\n",
    "    label_columns=[feat_to_fore])\n"
   ]
  },
  {
   "cell_type": "markdown",
   "metadata": {},
   "source": [
    "run the model"
   ]
  },
  {
   "cell_type": "code",
   "execution_count": null,
   "metadata": {},
   "outputs": [],
   "source": [
    "from keras.models import Sequential\n",
    "from keras.layers import LSTM\n",
    "from keras.layers import Dense\n",
    "from keras.layers import Dropout\n",
    "\n",
    "MAX_EPOCHS = 12\n",
    "\n",
    "def compile_and_fit(model, window, patience=1):\n",
    "  early_stopping = tf.keras.callbacks.EarlyStopping(monitor='val_loss',\n",
    "                                                    patience=patience,\n",
    "                                                    mode='min')\n",
    "  model.compile(\n",
    "                loss=tf.losses.MeanSquaredError(),\n",
    "                optimizer=tf.optimizers.Adam(),\n",
    "                metrics=[tf.metrics.MeanAbsoluteError()])\n",
    "\n",
    "  print(model.summary())\n",
    "\n",
    "  history = model.fit(window.train, epochs=MAX_EPOCHS,\n",
    "                      validation_data=window.val,\n",
    "                      callbacks=[early_stopping])\n",
    "  return history\n",
    "\n",
    "'''\n",
    "lstm_model = Sequential([\n",
    "    LSTM(16, return_sequences=True),\n",
    "    #LSTM(16, return_sequences=True),\n",
    "    #LSTM(8, return_sequences=True),\n",
    "\n",
    "    #Dropout(rate = .3),\n",
    "    Dense(units=1)\n",
    "  \n",
    "])'''\n",
    "\n",
    "lstm_model = tf.keras.Sequential([\n",
    "    # Shape [batch, time, features] => [batch, lstm_units].\n",
    "    # Adding more `lstm_units` just overfits more quickly.\n",
    "    tf.keras.layers.LSTM(32, return_sequences=False),\n",
    "    # Shape => [batch, out_steps*features].\n",
    "    tf.keras.layers.Dense(OUT_STEPS*num_features,\n",
    "                          kernel_initializer=tf.initializers.zeros()),\n",
    "    # Shape => [batch, out_steps, features].\n",
    "    tf.keras.layers.Reshape([OUT_STEPS, num_features])\n",
    "])\n",
    "\n",
    "\n",
    "\n",
    "#print('Input shape:', run_window.example[0].shape)\n",
    "#print('Output shape:', lstm_model(run_window.example[0]).shape)\n",
    "\n",
    "lstm_model(run_window.example[0]).shape\n",
    "print('Input shape:', run_window.example[0].shape)\n",
    "\n",
    "history = compile_and_fit(lstm_model, run_window)\n",
    "#IPython.display.clear_output()"
   ]
  },
  {
   "cell_type": "code",
   "execution_count": null,
   "metadata": {},
   "outputs": [],
   "source": [
    "plot_window.plot(lstm_model)"
   ]
  },
  {
   "cell_type": "code",
   "execution_count": null,
   "metadata": {},
   "outputs": [],
   "source": [
    "per = history.history\n",
    "loss = per['loss']\n",
    "mae = per['mean_absolute_error']\n",
    "vloss = per['val_loss']\n",
    "vmae = per['val_mean_absolute_error']\n",
    "\n",
    "x = np.arange(len(loss))\n",
    "plt.title(f\"Forecasting {feat_to_fore}\", fontsize=14)\n",
    "sns.lineplot(x=x, y=loss, label=\"loss\")\n",
    "sns.lineplot(x=x, y=vloss, label = \"val loss\")\n",
    "\n",
    "plt.xlabel('epoch')\n",
    "plt.ylabel('loss')\n"
   ]
  },
  {
   "cell_type": "code",
   "execution_count": null,
   "metadata": {},
   "outputs": [],
   "source": [
    "x = np.arange(len(loss))\n",
    "sns.lineplot(x=x, y=mae, label=\"mae\")\n",
    "sns.lineplot(x=x, y=vmae, label =\"vmae\")\n",
    "\n",
    "plt.title(f\"Forecasting {feat_to_fore}\", fontsize=14)\n",
    "plt.xlabel('epoch')\n",
    "plt.ylabel('mean sqaure error')"
   ]
  },
  {
   "cell_type": "code",
   "execution_count": null,
   "metadata": {},
   "outputs": [],
   "source": [
    "import shap\n",
    "#explainer = shap.DeepExplainer(lstm_model, X_train)\n",
    "\n",
    "mod_in = lstm_model.layers[0].input\n",
    "mod_out = lstm_model.layers[-1].output\n",
    "print(mod_out)\n",
    "\n",
    "X_train = np.array(run_window.train)\n",
    "print(X_train)\n",
    "#explainer = shap.DeepExplainer((mod_in, mod_out), X_train)\n",
    "\n",
    "# explain the the testing instances (can use fewer instanaces)\n",
    "# explaining each prediction requires 2 * background dataset size runs\n",
    "#shap_values = explainer.shap_values(X_test)\n",
    "# init the JS visualization code\n",
    "#shap.initjs()\n",
    "#shap.force_plot(explainer.expected_value[0], shap_values[0][0], features)"
   ]
  },
  {
   "cell_type": "code",
   "execution_count": null,
   "metadata": {},
   "outputs": [],
   "source": []
  }
 ],
 "metadata": {
  "interpreter": {
   "hash": "81c9f6066b02e9fc7530c8be7bfedc4bbc1ecba28634dc7aedcbba6cc5ff7208"
  },
  "kernelspec": {
   "display_name": "Python 3.8.13 ('tf_env')",
   "language": "python",
   "name": "python3"
  },
  "language_info": {
   "codemirror_mode": {
    "name": "ipython",
    "version": 3
   },
   "file_extension": ".py",
   "mimetype": "text/x-python",
   "name": "python",
   "nbconvert_exporter": "python",
   "pygments_lexer": "ipython3",
   "version": "3.8.13"
  },
  "orig_nbformat": 4
 },
 "nbformat": 4,
 "nbformat_minor": 2
}
