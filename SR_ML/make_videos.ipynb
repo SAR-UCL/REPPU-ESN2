{
 "cells": [
  {
   "cell_type": "code",
   "execution_count": 1,
   "metadata": {},
   "outputs": [],
   "source": [
    "import imageio\n",
    "import os"
   ]
  },
  {
   "cell_type": "code",
   "execution_count": 2,
   "metadata": {},
   "outputs": [
    {
     "name": "stderr",
     "output_type": "stream",
     "text": [
      "IMAGEIO FFMPEG_WRITER WARNING: input image is not divisible by macro_block_size=16, resizing from (2619, 1282) to (2624, 1296) to ensure video compatibility with most codecs and players. To prevent resizing, make your input image divisible by the macro_block_size or set the macro_block_size to 1 (risking incompatibility).\n",
      "[swscaler @ 0x7fcd5c34a000] Warning: data is not aligned! This can lead to a speed loss\n"
     ]
    }
   ],
   "source": [
    "folder_path = r'/Users/sr2/OneDrive - University College London/PhD/Experiences/Postdocs/JSPS/Research/Analysis/Apr-24/plots/SMRAI3/potential/2022-07-31/'\n",
    "png_files = [f for f in os.listdir(folder_path) if f.endswith('.png')]\n",
    "png_files.sort()\n",
    "\n",
    "images = []\n",
    "for file_name in png_files:\n",
    "    image = imageio.v2.imread(os.path.join(folder_path, file_name))\n",
    "    images.append(image)\n",
    "\n",
    "\n",
    "imageio.mimsave('/Users/sr2/OneDrive - University College London/PhD/Experiences/Postdocs/JSPS/Research/Analysis/Apr-24/plots/SMRAI3/potential/2022-07-31/2022-07-31.mp4', images, fps=10)"
   ]
  }
 ],
 "metadata": {
  "kernelspec": {
   "display_name": "nipr_env",
   "language": "python",
   "name": "python3"
  },
  "language_info": {
   "codemirror_mode": {
    "name": "ipython",
    "version": 3
   },
   "file_extension": ".py",
   "mimetype": "text/x-python",
   "name": "python",
   "nbconvert_exporter": "python",
   "pygments_lexer": "ipython3",
   "version": "3.12.2"
  }
 },
 "nbformat": 4,
 "nbformat_minor": 2
}
