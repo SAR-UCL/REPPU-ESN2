{
 "cells": [
  {
   "cell_type": "code",
   "execution_count": 4,
   "metadata": {},
   "outputs": [
    {
     "name": "stdout",
     "output_type": "stream",
     "text": [
      "Start Dates:\n",
      "<DatetimeArray>\n",
      "['2021-05-10 00:00:00', '2021-05-31 00:00:00', '2021-07-26 00:00:00',\n",
      " '2021-09-09 00:00:00', '2021-10-11 00:00:00', '2021-11-01 00:00:00',\n",
      " '2021-11-25 00:00:00', '2022-01-30 00:00:00', '2022-03-11 00:00:00',\n",
      " '2022-03-28 00:00:00', '2022-08-15 00:00:00', '2021-12-01 00:00:00',\n",
      " '2022-06-10 00:00:00']\n",
      "Length: 13, dtype: datetime64[ns]\n"
     ]
    }
   ],
   "source": [
    "import pandas as pd\n",
    "\n",
    "# Data ranges\n",
    "data_ranges = [\n",
    "    (\"2021/05/10\", \"2021/05/14\", 5),\n",
    "    (\"2021/05/31\", \"2021/06/03\", 4),\n",
    "    (\"2021/07/26\", \"2021/07/29\", 4),\n",
    "    (\"2021/09/09\", \"2021/09/12\", 4),\n",
    "    (\"2021/10/11\", \"2021/10/14\", 4),\n",
    "    (\"2021/11/01\", \"2021/11/06\", 6),\n",
    "    (\"2021/11/25\", \"2021/11/29\", 5),\n",
    "    (\"2022/01/30\", \"2022/02/03\", 5),\n",
    "    (\"2022/03/11\", \"2022/03/15\", 5),\n",
    "    (\"2022/03/28\", \"2022/04/01\", 5),\n",
    "    (\"2022/08/15\", \"2022/08/19\", 5),\n",
    "    (\"2021/12/01\", \"2022/01/24\", 55),\n",
    "    (\"2022/06/10\", \"2022/07/31\", 52)\n",
    "]\n",
    "\n",
    "# Convert data ranges to DataFrame\n",
    "df = pd.DataFrame(data_ranges, columns=[\"Start\", \"End\", \"Duration\"])\n",
    "\n",
    "# Convert date strings to datetime objects\n",
    "df[\"Start\"] = pd.to_datetime(df[\"Start\"])\n",
    "df[\"End\"] = pd.to_datetime(df[\"End\"])\n",
    "\n",
    "# Get the unique start dates\n",
    "start_dates = df[\"Start\"].unique()\n",
    "\n",
    "# Print the start dates\n",
    "print(\"Start Dates:\")\n",
    "print(start_dates)\n",
    "\n"
   ]
  },
  {
   "cell_type": "code",
   "execution_count": 6,
   "metadata": {},
   "outputs": [],
   "source": [
    "seq_len = 2\n",
    "slider = 12\n",
    "\n",
    "num_epochs = 1\n",
    "for epoch in range(num_epochs):\n",
    "    for start_date in start_dates:\n",
    "        # Find the index of the start date in the data\n",
    "        start_idx = df[df[\"Start\"] == start_date].index[0]\n",
    "        \n",
    "        # Extract the data block starting from the start date\n",
    "        #data_block = df.iloc[start_idx:start_idx + seq_len]\n",
    "        #inputs = data_block[['your_input_columns']].values  # Replace 'your_input_columns' with your actual input columns\n",
    "        #targets = data_block[['your_target_columns']].values[-1]"
   ]
  }
 ],
 "metadata": {
  "kernelspec": {
   "display_name": "server_env",
   "language": "python",
   "name": "python3"
  },
  "language_info": {
   "codemirror_mode": {
    "name": "ipython",
    "version": 3
   },
   "file_extension": ".py",
   "mimetype": "text/x-python",
   "name": "python",
   "nbconvert_exporter": "python",
   "pygments_lexer": "ipython3",
   "version": "3.12.2"
  }
 },
 "nbformat": 4,
 "nbformat_minor": 2
}
