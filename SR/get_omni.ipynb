{
 "cells": [
  {
   "cell_type": "code",
   "execution_count": 1,
   "metadata": {},
   "outputs": [],
   "source": [
    "from hapiclient import hapi, hapitime2datetime\n",
    "import numpy as np\n",
    "import pandas as pd\n",
    "import matplotlib.pyplot as plt\n",
    "import seaborn as sns\n",
    "import datetime as dt\n",
    "import calendar"
   ]
  },
  {
   "cell_type": "code",
   "execution_count": 2,
   "metadata": {},
   "outputs": [],
   "source": [
    "def fetch_omni_1min_data(params,data, start, stop):\n",
    "    server      = 'https://cdaweb.gsfc.nasa.gov/hapi'\n",
    "    dataset     = data\n",
    "    parameters  = params\n",
    "    data, meta  = hapi(server, dataset, parameters, start, stop)\n",
    "\n",
    "    return data"
   ]
  },
  {
   "cell_type": "code",
   "execution_count": 3,
   "metadata": {},
   "outputs": [],
   "source": [
    "def extract_data(data, params):\n",
    "\n",
    "    header = params.split(',')\n",
    "    header.insert(0, 'Timestamp')\n",
    "\n",
    "    #extract the data from the list\n",
    "    extracted_data = [[x[i] for x in data] for i in range(len(header))]\n",
    "\n",
    "    #create a dictionary and convert to dataframe using param names as headers\n",
    "    df_dict = {header: values for header, values in zip(header, extracted_data)}\n",
    "    df = pd.DataFrame(df_dict).set_index('Timestamp')\n",
    "\n",
    "    #convert to datetime from '\\b' time\n",
    "    df.index = hapitime2datetime(df.index.values.astype(str))\n",
    "    df.index = df.index.tz_convert(\"UTC\").tz_convert(None)\n",
    "\n",
    "\n",
    "    return df"
   ]
  },
  {
   "cell_type": "code",
   "execution_count": 4,
   "metadata": {},
   "outputs": [],
   "source": [
    "def extract_omni_1min(data, params):\n",
    "\n",
    "    df = extract_data(data, params)\n",
    "    df['Timestamp_1min_omni'] = df.index\n",
    "    df['Timestamp_1hr_omni'] = pd.to_datetime(df['Timestamp_1min_omni'], errors='coerce').dt.floor('1h')\n",
    "    df = df.reset_index(drop=True)\n",
    "    \n",
    "    return df\n"
   ]
  },
  {
   "cell_type": "code",
   "execution_count": 11,
   "metadata": {},
   "outputs": [
    {
     "name": "stdout",
     "output_type": "stream",
     "text": [
      "Processing:  2021 1\n"
     ]
    },
    {
     "name": "stderr",
     "output_type": "stream",
     "text": [
      "/Users/sr2/opt/anaconda3/envs/nipr_env/lib/python3.12/site-packages/hapiclient/hapitime.py:287: UserWarning: The argument 'infer_datetime_format' is deprecated and will be removed in a future version. A strict version of it is now the default, see https://pandas.pydata.org/pdeps/0004-consistent-to-datetime-parsing.html. You can safely remove this argument.\n",
      "  Time = pandas.to_datetime(Time, infer_datetime_format=True).tz_convert(tzinfo).to_pydatetime()\n"
     ]
    },
    {
     "name": "stdout",
     "output_type": "stream",
     "text": [
      "Processing:  2021 2\n"
     ]
    },
    {
     "name": "stderr",
     "output_type": "stream",
     "text": [
      "/Users/sr2/opt/anaconda3/envs/nipr_env/lib/python3.12/site-packages/hapiclient/hapitime.py:287: UserWarning: The argument 'infer_datetime_format' is deprecated and will be removed in a future version. A strict version of it is now the default, see https://pandas.pydata.org/pdeps/0004-consistent-to-datetime-parsing.html. You can safely remove this argument.\n",
      "  Time = pandas.to_datetime(Time, infer_datetime_format=True).tz_convert(tzinfo).to_pydatetime()\n"
     ]
    },
    {
     "name": "stdout",
     "output_type": "stream",
     "text": [
      "Processing:  2021 3\n"
     ]
    },
    {
     "name": "stderr",
     "output_type": "stream",
     "text": [
      "/Users/sr2/opt/anaconda3/envs/nipr_env/lib/python3.12/site-packages/hapiclient/hapitime.py:287: UserWarning: The argument 'infer_datetime_format' is deprecated and will be removed in a future version. A strict version of it is now the default, see https://pandas.pydata.org/pdeps/0004-consistent-to-datetime-parsing.html. You can safely remove this argument.\n",
      "  Time = pandas.to_datetime(Time, infer_datetime_format=True).tz_convert(tzinfo).to_pydatetime()\n"
     ]
    },
    {
     "name": "stdout",
     "output_type": "stream",
     "text": [
      "Processing:  2021 4\n"
     ]
    },
    {
     "name": "stderr",
     "output_type": "stream",
     "text": [
      "/Users/sr2/opt/anaconda3/envs/nipr_env/lib/python3.12/site-packages/hapiclient/hapitime.py:287: UserWarning: The argument 'infer_datetime_format' is deprecated and will be removed in a future version. A strict version of it is now the default, see https://pandas.pydata.org/pdeps/0004-consistent-to-datetime-parsing.html. You can safely remove this argument.\n",
      "  Time = pandas.to_datetime(Time, infer_datetime_format=True).tz_convert(tzinfo).to_pydatetime()\n"
     ]
    },
    {
     "name": "stdout",
     "output_type": "stream",
     "text": [
      "Processing:  2021 5\n"
     ]
    },
    {
     "name": "stderr",
     "output_type": "stream",
     "text": [
      "/Users/sr2/opt/anaconda3/envs/nipr_env/lib/python3.12/site-packages/hapiclient/hapitime.py:287: UserWarning: The argument 'infer_datetime_format' is deprecated and will be removed in a future version. A strict version of it is now the default, see https://pandas.pydata.org/pdeps/0004-consistent-to-datetime-parsing.html. You can safely remove this argument.\n",
      "  Time = pandas.to_datetime(Time, infer_datetime_format=True).tz_convert(tzinfo).to_pydatetime()\n"
     ]
    },
    {
     "name": "stdout",
     "output_type": "stream",
     "text": [
      "Processing:  2021 6\n"
     ]
    },
    {
     "name": "stderr",
     "output_type": "stream",
     "text": [
      "/Users/sr2/opt/anaconda3/envs/nipr_env/lib/python3.12/site-packages/hapiclient/hapitime.py:287: UserWarning: The argument 'infer_datetime_format' is deprecated and will be removed in a future version. A strict version of it is now the default, see https://pandas.pydata.org/pdeps/0004-consistent-to-datetime-parsing.html. You can safely remove this argument.\n",
      "  Time = pandas.to_datetime(Time, infer_datetime_format=True).tz_convert(tzinfo).to_pydatetime()\n"
     ]
    },
    {
     "name": "stdout",
     "output_type": "stream",
     "text": [
      "Processing:  2021 7\n"
     ]
    },
    {
     "name": "stderr",
     "output_type": "stream",
     "text": [
      "/Users/sr2/opt/anaconda3/envs/nipr_env/lib/python3.12/site-packages/hapiclient/hapitime.py:287: UserWarning: The argument 'infer_datetime_format' is deprecated and will be removed in a future version. A strict version of it is now the default, see https://pandas.pydata.org/pdeps/0004-consistent-to-datetime-parsing.html. You can safely remove this argument.\n",
      "  Time = pandas.to_datetime(Time, infer_datetime_format=True).tz_convert(tzinfo).to_pydatetime()\n"
     ]
    },
    {
     "name": "stdout",
     "output_type": "stream",
     "text": [
      "Processing:  2021 8\n"
     ]
    },
    {
     "name": "stderr",
     "output_type": "stream",
     "text": [
      "/Users/sr2/opt/anaconda3/envs/nipr_env/lib/python3.12/site-packages/hapiclient/hapitime.py:287: UserWarning: The argument 'infer_datetime_format' is deprecated and will be removed in a future version. A strict version of it is now the default, see https://pandas.pydata.org/pdeps/0004-consistent-to-datetime-parsing.html. You can safely remove this argument.\n",
      "  Time = pandas.to_datetime(Time, infer_datetime_format=True).tz_convert(tzinfo).to_pydatetime()\n"
     ]
    },
    {
     "name": "stdout",
     "output_type": "stream",
     "text": [
      "Processing:  2021 9\n"
     ]
    },
    {
     "name": "stderr",
     "output_type": "stream",
     "text": [
      "/Users/sr2/opt/anaconda3/envs/nipr_env/lib/python3.12/site-packages/hapiclient/hapitime.py:287: UserWarning: The argument 'infer_datetime_format' is deprecated and will be removed in a future version. A strict version of it is now the default, see https://pandas.pydata.org/pdeps/0004-consistent-to-datetime-parsing.html. You can safely remove this argument.\n",
      "  Time = pandas.to_datetime(Time, infer_datetime_format=True).tz_convert(tzinfo).to_pydatetime()\n"
     ]
    },
    {
     "name": "stdout",
     "output_type": "stream",
     "text": [
      "Processing:  2021 10\n"
     ]
    },
    {
     "name": "stderr",
     "output_type": "stream",
     "text": [
      "/Users/sr2/opt/anaconda3/envs/nipr_env/lib/python3.12/site-packages/hapiclient/hapitime.py:287: UserWarning: The argument 'infer_datetime_format' is deprecated and will be removed in a future version. A strict version of it is now the default, see https://pandas.pydata.org/pdeps/0004-consistent-to-datetime-parsing.html. You can safely remove this argument.\n",
      "  Time = pandas.to_datetime(Time, infer_datetime_format=True).tz_convert(tzinfo).to_pydatetime()\n"
     ]
    },
    {
     "name": "stdout",
     "output_type": "stream",
     "text": [
      "Processing:  2021 11\n"
     ]
    },
    {
     "name": "stderr",
     "output_type": "stream",
     "text": [
      "/Users/sr2/opt/anaconda3/envs/nipr_env/lib/python3.12/site-packages/hapiclient/hapitime.py:287: UserWarning: The argument 'infer_datetime_format' is deprecated and will be removed in a future version. A strict version of it is now the default, see https://pandas.pydata.org/pdeps/0004-consistent-to-datetime-parsing.html. You can safely remove this argument.\n",
      "  Time = pandas.to_datetime(Time, infer_datetime_format=True).tz_convert(tzinfo).to_pydatetime()\n"
     ]
    },
    {
     "name": "stdout",
     "output_type": "stream",
     "text": [
      "Processing:  2021 12\n"
     ]
    },
    {
     "name": "stderr",
     "output_type": "stream",
     "text": [
      "/Users/sr2/opt/anaconda3/envs/nipr_env/lib/python3.12/site-packages/hapiclient/hapitime.py:287: UserWarning: The argument 'infer_datetime_format' is deprecated and will be removed in a future version. A strict version of it is now the default, see https://pandas.pydata.org/pdeps/0004-consistent-to-datetime-parsing.html. You can safely remove this argument.\n",
      "  Time = pandas.to_datetime(Time, infer_datetime_format=True).tz_convert(tzinfo).to_pydatetime()\n"
     ]
    },
    {
     "name": "stdout",
     "output_type": "stream",
     "text": [
      "Processing:  2022 1\n"
     ]
    },
    {
     "name": "stderr",
     "output_type": "stream",
     "text": [
      "/Users/sr2/opt/anaconda3/envs/nipr_env/lib/python3.12/site-packages/hapiclient/hapitime.py:287: UserWarning: The argument 'infer_datetime_format' is deprecated and will be removed in a future version. A strict version of it is now the default, see https://pandas.pydata.org/pdeps/0004-consistent-to-datetime-parsing.html. You can safely remove this argument.\n",
      "  Time = pandas.to_datetime(Time, infer_datetime_format=True).tz_convert(tzinfo).to_pydatetime()\n"
     ]
    },
    {
     "name": "stdout",
     "output_type": "stream",
     "text": [
      "Processing:  2022 2\n"
     ]
    },
    {
     "name": "stderr",
     "output_type": "stream",
     "text": [
      "/Users/sr2/opt/anaconda3/envs/nipr_env/lib/python3.12/site-packages/hapiclient/hapitime.py:287: UserWarning: The argument 'infer_datetime_format' is deprecated and will be removed in a future version. A strict version of it is now the default, see https://pandas.pydata.org/pdeps/0004-consistent-to-datetime-parsing.html. You can safely remove this argument.\n",
      "  Time = pandas.to_datetime(Time, infer_datetime_format=True).tz_convert(tzinfo).to_pydatetime()\n"
     ]
    },
    {
     "name": "stdout",
     "output_type": "stream",
     "text": [
      "Processing:  2022 3\n"
     ]
    },
    {
     "name": "stderr",
     "output_type": "stream",
     "text": [
      "/Users/sr2/opt/anaconda3/envs/nipr_env/lib/python3.12/site-packages/hapiclient/hapitime.py:287: UserWarning: The argument 'infer_datetime_format' is deprecated and will be removed in a future version. A strict version of it is now the default, see https://pandas.pydata.org/pdeps/0004-consistent-to-datetime-parsing.html. You can safely remove this argument.\n",
      "  Time = pandas.to_datetime(Time, infer_datetime_format=True).tz_convert(tzinfo).to_pydatetime()\n"
     ]
    },
    {
     "name": "stdout",
     "output_type": "stream",
     "text": [
      "Processing:  2022 4\n"
     ]
    },
    {
     "name": "stderr",
     "output_type": "stream",
     "text": [
      "/Users/sr2/opt/anaconda3/envs/nipr_env/lib/python3.12/site-packages/hapiclient/hapitime.py:287: UserWarning: The argument 'infer_datetime_format' is deprecated and will be removed in a future version. A strict version of it is now the default, see https://pandas.pydata.org/pdeps/0004-consistent-to-datetime-parsing.html. You can safely remove this argument.\n",
      "  Time = pandas.to_datetime(Time, infer_datetime_format=True).tz_convert(tzinfo).to_pydatetime()\n"
     ]
    },
    {
     "name": "stdout",
     "output_type": "stream",
     "text": [
      "Processing:  2022 5\n"
     ]
    },
    {
     "name": "stderr",
     "output_type": "stream",
     "text": [
      "/Users/sr2/opt/anaconda3/envs/nipr_env/lib/python3.12/site-packages/hapiclient/hapitime.py:287: UserWarning: The argument 'infer_datetime_format' is deprecated and will be removed in a future version. A strict version of it is now the default, see https://pandas.pydata.org/pdeps/0004-consistent-to-datetime-parsing.html. You can safely remove this argument.\n",
      "  Time = pandas.to_datetime(Time, infer_datetime_format=True).tz_convert(tzinfo).to_pydatetime()\n"
     ]
    },
    {
     "name": "stdout",
     "output_type": "stream",
     "text": [
      "Processing:  2022 6\n"
     ]
    },
    {
     "name": "stderr",
     "output_type": "stream",
     "text": [
      "/Users/sr2/opt/anaconda3/envs/nipr_env/lib/python3.12/site-packages/hapiclient/hapitime.py:287: UserWarning: The argument 'infer_datetime_format' is deprecated and will be removed in a future version. A strict version of it is now the default, see https://pandas.pydata.org/pdeps/0004-consistent-to-datetime-parsing.html. You can safely remove this argument.\n",
      "  Time = pandas.to_datetime(Time, infer_datetime_format=True).tz_convert(tzinfo).to_pydatetime()\n"
     ]
    },
    {
     "name": "stdout",
     "output_type": "stream",
     "text": [
      "Processing:  2022 7\n"
     ]
    },
    {
     "name": "stderr",
     "output_type": "stream",
     "text": [
      "/Users/sr2/opt/anaconda3/envs/nipr_env/lib/python3.12/site-packages/hapiclient/hapitime.py:287: UserWarning: The argument 'infer_datetime_format' is deprecated and will be removed in a future version. A strict version of it is now the default, see https://pandas.pydata.org/pdeps/0004-consistent-to-datetime-parsing.html. You can safely remove this argument.\n",
      "  Time = pandas.to_datetime(Time, infer_datetime_format=True).tz_convert(tzinfo).to_pydatetime()\n"
     ]
    },
    {
     "name": "stdout",
     "output_type": "stream",
     "text": [
      "Processing:  2022 8\n"
     ]
    },
    {
     "name": "stderr",
     "output_type": "stream",
     "text": [
      "/Users/sr2/opt/anaconda3/envs/nipr_env/lib/python3.12/site-packages/hapiclient/hapitime.py:287: UserWarning: The argument 'infer_datetime_format' is deprecated and will be removed in a future version. A strict version of it is now the default, see https://pandas.pydata.org/pdeps/0004-consistent-to-datetime-parsing.html. You can safely remove this argument.\n",
      "  Time = pandas.to_datetime(Time, infer_datetime_format=True).tz_convert(tzinfo).to_pydatetime()\n"
     ]
    },
    {
     "name": "stdout",
     "output_type": "stream",
     "text": [
      "Processing:  2022 9\n"
     ]
    },
    {
     "name": "stderr",
     "output_type": "stream",
     "text": [
      "/Users/sr2/opt/anaconda3/envs/nipr_env/lib/python3.12/site-packages/hapiclient/hapitime.py:287: UserWarning: The argument 'infer_datetime_format' is deprecated and will be removed in a future version. A strict version of it is now the default, see https://pandas.pydata.org/pdeps/0004-consistent-to-datetime-parsing.html. You can safely remove this argument.\n",
      "  Time = pandas.to_datetime(Time, infer_datetime_format=True).tz_convert(tzinfo).to_pydatetime()\n"
     ]
    },
    {
     "name": "stdout",
     "output_type": "stream",
     "text": [
      "Processing:  2022 10\n"
     ]
    },
    {
     "name": "stderr",
     "output_type": "stream",
     "text": [
      "/Users/sr2/opt/anaconda3/envs/nipr_env/lib/python3.12/site-packages/hapiclient/hapitime.py:287: UserWarning: The argument 'infer_datetime_format' is deprecated and will be removed in a future version. A strict version of it is now the default, see https://pandas.pydata.org/pdeps/0004-consistent-to-datetime-parsing.html. You can safely remove this argument.\n",
      "  Time = pandas.to_datetime(Time, infer_datetime_format=True).tz_convert(tzinfo).to_pydatetime()\n"
     ]
    },
    {
     "name": "stdout",
     "output_type": "stream",
     "text": [
      "Processing:  2022 11\n"
     ]
    },
    {
     "name": "stderr",
     "output_type": "stream",
     "text": [
      "/Users/sr2/opt/anaconda3/envs/nipr_env/lib/python3.12/site-packages/hapiclient/hapitime.py:287: UserWarning: The argument 'infer_datetime_format' is deprecated and will be removed in a future version. A strict version of it is now the default, see https://pandas.pydata.org/pdeps/0004-consistent-to-datetime-parsing.html. You can safely remove this argument.\n",
      "  Time = pandas.to_datetime(Time, infer_datetime_format=True).tz_convert(tzinfo).to_pydatetime()\n"
     ]
    },
    {
     "name": "stdout",
     "output_type": "stream",
     "text": [
      "Processing:  2022 12\n"
     ]
    },
    {
     "name": "stderr",
     "output_type": "stream",
     "text": [
      "/Users/sr2/opt/anaconda3/envs/nipr_env/lib/python3.12/site-packages/hapiclient/hapitime.py:287: UserWarning: The argument 'infer_datetime_format' is deprecated and will be removed in a future version. A strict version of it is now the default, see https://pandas.pydata.org/pdeps/0004-consistent-to-datetime-parsing.html. You can safely remove this argument.\n",
      "  Time = pandas.to_datetime(Time, infer_datetime_format=True).tz_convert(tzinfo).to_pydatetime()\n"
     ]
    },
    {
     "data": {
      "text/html": [
       "<div>\n",
       "<style scoped>\n",
       "    .dataframe tbody tr th:only-of-type {\n",
       "        vertical-align: middle;\n",
       "    }\n",
       "\n",
       "    .dataframe tbody tr th {\n",
       "        vertical-align: top;\n",
       "    }\n",
       "\n",
       "    .dataframe thead th {\n",
       "        text-align: right;\n",
       "    }\n",
       "</style>\n",
       "<table border=\"1\" class=\"dataframe\">\n",
       "  <thead>\n",
       "    <tr style=\"text-align: right;\">\n",
       "      <th></th>\n",
       "      <th>percent_interp</th>\n",
       "      <th>BY_GSE</th>\n",
       "      <th>BZ_GSE</th>\n",
       "      <th>flow_speed</th>\n",
       "      <th>proton_density</th>\n",
       "      <th>T</th>\n",
       "      <th>Pressure</th>\n",
       "      <th>E</th>\n",
       "      <th>Mach_num</th>\n",
       "      <th>BSN_x</th>\n",
       "      <th>BSN_y</th>\n",
       "      <th>BSN_z</th>\n",
       "      <th>Timestamp_1min_omni</th>\n",
       "      <th>Timestamp_1hr_omni</th>\n",
       "    </tr>\n",
       "  </thead>\n",
       "  <tbody>\n",
       "    <tr>\n",
       "      <th>0</th>\n",
       "      <td>0</td>\n",
       "      <td>0.58</td>\n",
       "      <td>0.93</td>\n",
       "      <td>358.899994</td>\n",
       "      <td>4.51</td>\n",
       "      <td>34062.0</td>\n",
       "      <td>1.16</td>\n",
       "      <td>-0.39</td>\n",
       "      <td>13.4</td>\n",
       "      <td>14.38</td>\n",
       "      <td>-1.67</td>\n",
       "      <td>0.51</td>\n",
       "      <td>2021-01-01 00:00:00</td>\n",
       "      <td>2021-01-01 00:00:00</td>\n",
       "    </tr>\n",
       "    <tr>\n",
       "      <th>1</th>\n",
       "      <td>0</td>\n",
       "      <td>0.44</td>\n",
       "      <td>1.21</td>\n",
       "      <td>358.399994</td>\n",
       "      <td>4.22</td>\n",
       "      <td>34142.0</td>\n",
       "      <td>1.08</td>\n",
       "      <td>-0.46</td>\n",
       "      <td>12.3</td>\n",
       "      <td>14.50</td>\n",
       "      <td>-1.58</td>\n",
       "      <td>0.43</td>\n",
       "      <td>2021-01-01 00:05:00</td>\n",
       "      <td>2021-01-01 00:00:00</td>\n",
       "    </tr>\n",
       "    <tr>\n",
       "      <th>2</th>\n",
       "      <td>0</td>\n",
       "      <td>0.04</td>\n",
       "      <td>1.46</td>\n",
       "      <td>359.100006</td>\n",
       "      <td>4.41</td>\n",
       "      <td>33812.0</td>\n",
       "      <td>1.14</td>\n",
       "      <td>-0.51</td>\n",
       "      <td>12.5</td>\n",
       "      <td>14.43</td>\n",
       "      <td>-1.60</td>\n",
       "      <td>0.46</td>\n",
       "      <td>2021-01-01 00:10:00</td>\n",
       "      <td>2021-01-01 00:00:00</td>\n",
       "    </tr>\n",
       "    <tr>\n",
       "      <th>3</th>\n",
       "      <td>38</td>\n",
       "      <td>-0.52</td>\n",
       "      <td>1.43</td>\n",
       "      <td>359.899994</td>\n",
       "      <td>4.29</td>\n",
       "      <td>31964.0</td>\n",
       "      <td>1.11</td>\n",
       "      <td>-0.45</td>\n",
       "      <td>12.2</td>\n",
       "      <td>14.46</td>\n",
       "      <td>-1.48</td>\n",
       "      <td>0.39</td>\n",
       "      <td>2021-01-01 00:15:00</td>\n",
       "      <td>2021-01-01 00:00:00</td>\n",
       "    </tr>\n",
       "    <tr>\n",
       "      <th>4</th>\n",
       "      <td>92</td>\n",
       "      <td>-1.11</td>\n",
       "      <td>1.67</td>\n",
       "      <td>360.600006</td>\n",
       "      <td>4.36</td>\n",
       "      <td>28132.0</td>\n",
       "      <td>1.13</td>\n",
       "      <td>-0.51</td>\n",
       "      <td>12.5</td>\n",
       "      <td>14.45</td>\n",
       "      <td>-1.47</td>\n",
       "      <td>0.47</td>\n",
       "      <td>2021-01-01 00:20:00</td>\n",
       "      <td>2021-01-01 00:00:00</td>\n",
       "    </tr>\n",
       "    <tr>\n",
       "      <th>...</th>\n",
       "      <td>...</td>\n",
       "      <td>...</td>\n",
       "      <td>...</td>\n",
       "      <td>...</td>\n",
       "      <td>...</td>\n",
       "      <td>...</td>\n",
       "      <td>...</td>\n",
       "      <td>...</td>\n",
       "      <td>...</td>\n",
       "      <td>...</td>\n",
       "      <td>...</td>\n",
       "      <td>...</td>\n",
       "      <td>...</td>\n",
       "      <td>...</td>\n",
       "    </tr>\n",
       "    <tr>\n",
       "      <th>210235</th>\n",
       "      <td>100</td>\n",
       "      <td>3.28</td>\n",
       "      <td>-0.87</td>\n",
       "      <td>572.799988</td>\n",
       "      <td>2.04</td>\n",
       "      <td>69130.0</td>\n",
       "      <td>1.34</td>\n",
       "      <td>0.01</td>\n",
       "      <td>7.3</td>\n",
       "      <td>13.50</td>\n",
       "      <td>-0.68</td>\n",
       "      <td>0.25</td>\n",
       "      <td>2022-12-31 23:35:00</td>\n",
       "      <td>2022-12-31 23:00:00</td>\n",
       "    </tr>\n",
       "    <tr>\n",
       "      <th>210236</th>\n",
       "      <td>100</td>\n",
       "      <td>3.04</td>\n",
       "      <td>-1.88</td>\n",
       "      <td>583.200012</td>\n",
       "      <td>2.54</td>\n",
       "      <td>92632.0</td>\n",
       "      <td>1.73</td>\n",
       "      <td>0.62</td>\n",
       "      <td>8.2</td>\n",
       "      <td>13.53</td>\n",
       "      <td>-0.52</td>\n",
       "      <td>-0.02</td>\n",
       "      <td>2022-12-31 23:40:00</td>\n",
       "      <td>2022-12-31 23:00:00</td>\n",
       "    </tr>\n",
       "    <tr>\n",
       "      <th>210237</th>\n",
       "      <td>100</td>\n",
       "      <td>2.70</td>\n",
       "      <td>-1.44</td>\n",
       "      <td>565.599976</td>\n",
       "      <td>2.31</td>\n",
       "      <td>66356.0</td>\n",
       "      <td>1.48</td>\n",
       "      <td>0.25</td>\n",
       "      <td>7.7</td>\n",
       "      <td>13.51</td>\n",
       "      <td>-0.72</td>\n",
       "      <td>-0.02</td>\n",
       "      <td>2022-12-31 23:45:00</td>\n",
       "      <td>2022-12-31 23:00:00</td>\n",
       "    </tr>\n",
       "    <tr>\n",
       "      <th>210238</th>\n",
       "      <td>100</td>\n",
       "      <td>2.35</td>\n",
       "      <td>0.47</td>\n",
       "      <td>572.099976</td>\n",
       "      <td>2.38</td>\n",
       "      <td>81531.0</td>\n",
       "      <td>1.55</td>\n",
       "      <td>-0.61</td>\n",
       "      <td>8.0</td>\n",
       "      <td>13.55</td>\n",
       "      <td>-0.78</td>\n",
       "      <td>0.31</td>\n",
       "      <td>2022-12-31 23:50:00</td>\n",
       "      <td>2022-12-31 23:00:00</td>\n",
       "    </tr>\n",
       "    <tr>\n",
       "      <th>210239</th>\n",
       "      <td>76</td>\n",
       "      <td>3.13</td>\n",
       "      <td>-0.60</td>\n",
       "      <td>572.400024</td>\n",
       "      <td>2.39</td>\n",
       "      <td>75092.0</td>\n",
       "      <td>1.57</td>\n",
       "      <td>-0.11</td>\n",
       "      <td>7.9</td>\n",
       "      <td>13.45</td>\n",
       "      <td>-0.69</td>\n",
       "      <td>0.24</td>\n",
       "      <td>2022-12-31 23:55:00</td>\n",
       "      <td>2022-12-31 23:00:00</td>\n",
       "    </tr>\n",
       "  </tbody>\n",
       "</table>\n",
       "<p>210240 rows × 14 columns</p>\n",
       "</div>"
      ],
      "text/plain": [
       "        percent_interp  BY_GSE  BZ_GSE  flow_speed  proton_density        T  \\\n",
       "0                    0    0.58    0.93  358.899994            4.51  34062.0   \n",
       "1                    0    0.44    1.21  358.399994            4.22  34142.0   \n",
       "2                    0    0.04    1.46  359.100006            4.41  33812.0   \n",
       "3                   38   -0.52    1.43  359.899994            4.29  31964.0   \n",
       "4                   92   -1.11    1.67  360.600006            4.36  28132.0   \n",
       "...                ...     ...     ...         ...             ...      ...   \n",
       "210235             100    3.28   -0.87  572.799988            2.04  69130.0   \n",
       "210236             100    3.04   -1.88  583.200012            2.54  92632.0   \n",
       "210237             100    2.70   -1.44  565.599976            2.31  66356.0   \n",
       "210238             100    2.35    0.47  572.099976            2.38  81531.0   \n",
       "210239              76    3.13   -0.60  572.400024            2.39  75092.0   \n",
       "\n",
       "        Pressure     E  Mach_num  BSN_x  BSN_y  BSN_z Timestamp_1min_omni  \\\n",
       "0           1.16 -0.39      13.4  14.38  -1.67   0.51 2021-01-01 00:00:00   \n",
       "1           1.08 -0.46      12.3  14.50  -1.58   0.43 2021-01-01 00:05:00   \n",
       "2           1.14 -0.51      12.5  14.43  -1.60   0.46 2021-01-01 00:10:00   \n",
       "3           1.11 -0.45      12.2  14.46  -1.48   0.39 2021-01-01 00:15:00   \n",
       "4           1.13 -0.51      12.5  14.45  -1.47   0.47 2021-01-01 00:20:00   \n",
       "...          ...   ...       ...    ...    ...    ...                 ...   \n",
       "210235      1.34  0.01       7.3  13.50  -0.68   0.25 2022-12-31 23:35:00   \n",
       "210236      1.73  0.62       8.2  13.53  -0.52  -0.02 2022-12-31 23:40:00   \n",
       "210237      1.48  0.25       7.7  13.51  -0.72  -0.02 2022-12-31 23:45:00   \n",
       "210238      1.55 -0.61       8.0  13.55  -0.78   0.31 2022-12-31 23:50:00   \n",
       "210239      1.57 -0.11       7.9  13.45  -0.69   0.24 2022-12-31 23:55:00   \n",
       "\n",
       "        Timestamp_1hr_omni  \n",
       "0      2021-01-01 00:00:00  \n",
       "1      2021-01-01 00:00:00  \n",
       "2      2021-01-01 00:00:00  \n",
       "3      2021-01-01 00:00:00  \n",
       "4      2021-01-01 00:00:00  \n",
       "...                    ...  \n",
       "210235 2022-12-31 23:00:00  \n",
       "210236 2022-12-31 23:00:00  \n",
       "210237 2022-12-31 23:00:00  \n",
       "210238 2022-12-31 23:00:00  \n",
       "210239 2022-12-31 23:00:00  \n",
       "\n",
       "[210240 rows x 14 columns]"
      ]
     },
     "execution_count": 11,
     "metadata": {},
     "output_type": "execute_result"
    }
   ],
   "source": [
    "omni_1min = \"OMNI_HRO_5MIN\"\n",
    "omni_1min_params = 'percent_interp,BY_GSE,BZ_GSE,flow_speed,proton_density,T,Pressure,E,Mach_num,BSN_x,BSN_y,BSN_z'\n",
    "\n",
    "#Pressure = flow pressure in nPa\n",
    "\n",
    "yr = 2021\n",
    "months = []\n",
    "years = [2021,2022]\n",
    "for year in years:\n",
    "    for month in range(1,13):\n",
    "\n",
    "        print('Processing: ',year, month)\n",
    "\n",
    "        _, num_days = calendar.monthrange(year, month)\n",
    "\n",
    "        start_time = f'{year}-{month:02d}-{1:02d}T00:00:000Z'\n",
    "        end_time = f'{year}-{month:02d}-{num_days:02d}T23:59:59Z'\n",
    "\n",
    "        #download the data then clean it\n",
    "        omni_1min_data = fetch_omni_1min_data(omni_1min_params, omni_1min, start_time, end_time)\n",
    "        omni_1min_df = extract_omni_1min(omni_1min_data, omni_1min_params)\n",
    "\n",
    "        months.append(omni_1min_df)\n",
    "        \n",
    "months_df = pd.concat(months)\n",
    "months_df = months_df.reset_index(drop=True)\n",
    "\n",
    "export_path = f'/Users/sr2/OneDrive - University College London/PhD/Experiences/Postdocs/JSPS/Research/Analysis/Apr-24/data/omni/'\n",
    "df_name = f'omni_hro_5min_2021-2022'\n",
    "export_filename = export_path + df_name +'.csv'\n",
    "months_df.to_csv(export_filename, index=False, header=True)\n",
    "months_df\n",
    "        "
   ]
  },
  {
   "cell_type": "code",
   "execution_count": 12,
   "metadata": {},
   "outputs": [
    {
     "name": "stderr",
     "output_type": "stream",
     "text": [
      "/var/folders/n2/t9qn3_vj3nd6jb505jq_l8dw0000gn/T/ipykernel_44137/1718605959.py:2: SettingWithCopyWarning: \n",
      "A value is trying to be set on a copy of a slice from a DataFrame.\n",
      "Try using .loc[row_indexer,col_indexer] = value instead\n",
      "\n",
      "See the caveats in the documentation: https://pandas.pydata.org/pandas-docs/stable/user_guide/indexing.html#returning-a-view-versus-a-copy\n",
      "  months_df['sw_cat'] = np.where(months_df['flow_speed'] < 400, 'slow', 'fast')\n"
     ]
    },
    {
     "data": {
      "text/html": [
       "<div>\n",
       "<style scoped>\n",
       "    .dataframe tbody tr th:only-of-type {\n",
       "        vertical-align: middle;\n",
       "    }\n",
       "\n",
       "    .dataframe tbody tr th {\n",
       "        vertical-align: top;\n",
       "    }\n",
       "\n",
       "    .dataframe thead th {\n",
       "        text-align: right;\n",
       "    }\n",
       "</style>\n",
       "<table border=\"1\" class=\"dataframe\">\n",
       "  <thead>\n",
       "    <tr style=\"text-align: right;\">\n",
       "      <th></th>\n",
       "      <th>percent_interp</th>\n",
       "      <th>BY_GSE</th>\n",
       "      <th>BZ_GSE</th>\n",
       "      <th>flow_speed</th>\n",
       "      <th>proton_density</th>\n",
       "      <th>T</th>\n",
       "      <th>Pressure</th>\n",
       "      <th>E</th>\n",
       "      <th>Mach_num</th>\n",
       "      <th>BSN_x</th>\n",
       "      <th>BSN_y</th>\n",
       "      <th>BSN_z</th>\n",
       "      <th>Timestamp_1min_omni</th>\n",
       "      <th>Timestamp_1hr_omni</th>\n",
       "      <th>sw_cat</th>\n",
       "    </tr>\n",
       "  </thead>\n",
       "  <tbody>\n",
       "    <tr>\n",
       "      <th>0</th>\n",
       "      <td>0</td>\n",
       "      <td>0.58</td>\n",
       "      <td>0.93</td>\n",
       "      <td>358.899994</td>\n",
       "      <td>4.51</td>\n",
       "      <td>34062.0</td>\n",
       "      <td>1.16</td>\n",
       "      <td>-0.39</td>\n",
       "      <td>13.4</td>\n",
       "      <td>14.38</td>\n",
       "      <td>-1.67</td>\n",
       "      <td>0.51</td>\n",
       "      <td>2021-01-01 00:00:00</td>\n",
       "      <td>2021-01-01 00:00:00</td>\n",
       "      <td>slow</td>\n",
       "    </tr>\n",
       "    <tr>\n",
       "      <th>1</th>\n",
       "      <td>0</td>\n",
       "      <td>0.44</td>\n",
       "      <td>1.21</td>\n",
       "      <td>358.399994</td>\n",
       "      <td>4.22</td>\n",
       "      <td>34142.0</td>\n",
       "      <td>1.08</td>\n",
       "      <td>-0.46</td>\n",
       "      <td>12.3</td>\n",
       "      <td>14.50</td>\n",
       "      <td>-1.58</td>\n",
       "      <td>0.43</td>\n",
       "      <td>2021-01-01 00:05:00</td>\n",
       "      <td>2021-01-01 00:00:00</td>\n",
       "      <td>slow</td>\n",
       "    </tr>\n",
       "    <tr>\n",
       "      <th>2</th>\n",
       "      <td>0</td>\n",
       "      <td>0.04</td>\n",
       "      <td>1.46</td>\n",
       "      <td>359.100006</td>\n",
       "      <td>4.41</td>\n",
       "      <td>33812.0</td>\n",
       "      <td>1.14</td>\n",
       "      <td>-0.51</td>\n",
       "      <td>12.5</td>\n",
       "      <td>14.43</td>\n",
       "      <td>-1.60</td>\n",
       "      <td>0.46</td>\n",
       "      <td>2021-01-01 00:10:00</td>\n",
       "      <td>2021-01-01 00:00:00</td>\n",
       "      <td>slow</td>\n",
       "    </tr>\n",
       "    <tr>\n",
       "      <th>3</th>\n",
       "      <td>38</td>\n",
       "      <td>-0.52</td>\n",
       "      <td>1.43</td>\n",
       "      <td>359.899994</td>\n",
       "      <td>4.29</td>\n",
       "      <td>31964.0</td>\n",
       "      <td>1.11</td>\n",
       "      <td>-0.45</td>\n",
       "      <td>12.2</td>\n",
       "      <td>14.46</td>\n",
       "      <td>-1.48</td>\n",
       "      <td>0.39</td>\n",
       "      <td>2021-01-01 00:15:00</td>\n",
       "      <td>2021-01-01 00:00:00</td>\n",
       "      <td>slow</td>\n",
       "    </tr>\n",
       "    <tr>\n",
       "      <th>4</th>\n",
       "      <td>92</td>\n",
       "      <td>-1.11</td>\n",
       "      <td>1.67</td>\n",
       "      <td>360.600006</td>\n",
       "      <td>4.36</td>\n",
       "      <td>28132.0</td>\n",
       "      <td>1.13</td>\n",
       "      <td>-0.51</td>\n",
       "      <td>12.5</td>\n",
       "      <td>14.45</td>\n",
       "      <td>-1.47</td>\n",
       "      <td>0.47</td>\n",
       "      <td>2021-01-01 00:20:00</td>\n",
       "      <td>2021-01-01 00:00:00</td>\n",
       "      <td>slow</td>\n",
       "    </tr>\n",
       "    <tr>\n",
       "      <th>...</th>\n",
       "      <td>...</td>\n",
       "      <td>...</td>\n",
       "      <td>...</td>\n",
       "      <td>...</td>\n",
       "      <td>...</td>\n",
       "      <td>...</td>\n",
       "      <td>...</td>\n",
       "      <td>...</td>\n",
       "      <td>...</td>\n",
       "      <td>...</td>\n",
       "      <td>...</td>\n",
       "      <td>...</td>\n",
       "      <td>...</td>\n",
       "      <td>...</td>\n",
       "      <td>...</td>\n",
       "    </tr>\n",
       "    <tr>\n",
       "      <th>210235</th>\n",
       "      <td>100</td>\n",
       "      <td>3.28</td>\n",
       "      <td>-0.87</td>\n",
       "      <td>572.799988</td>\n",
       "      <td>2.04</td>\n",
       "      <td>69130.0</td>\n",
       "      <td>1.34</td>\n",
       "      <td>0.01</td>\n",
       "      <td>7.3</td>\n",
       "      <td>13.50</td>\n",
       "      <td>-0.68</td>\n",
       "      <td>0.25</td>\n",
       "      <td>2022-12-31 23:35:00</td>\n",
       "      <td>2022-12-31 23:00:00</td>\n",
       "      <td>fast</td>\n",
       "    </tr>\n",
       "    <tr>\n",
       "      <th>210236</th>\n",
       "      <td>100</td>\n",
       "      <td>3.04</td>\n",
       "      <td>-1.88</td>\n",
       "      <td>583.200012</td>\n",
       "      <td>2.54</td>\n",
       "      <td>92632.0</td>\n",
       "      <td>1.73</td>\n",
       "      <td>0.62</td>\n",
       "      <td>8.2</td>\n",
       "      <td>13.53</td>\n",
       "      <td>-0.52</td>\n",
       "      <td>-0.02</td>\n",
       "      <td>2022-12-31 23:40:00</td>\n",
       "      <td>2022-12-31 23:00:00</td>\n",
       "      <td>fast</td>\n",
       "    </tr>\n",
       "    <tr>\n",
       "      <th>210237</th>\n",
       "      <td>100</td>\n",
       "      <td>2.70</td>\n",
       "      <td>-1.44</td>\n",
       "      <td>565.599976</td>\n",
       "      <td>2.31</td>\n",
       "      <td>66356.0</td>\n",
       "      <td>1.48</td>\n",
       "      <td>0.25</td>\n",
       "      <td>7.7</td>\n",
       "      <td>13.51</td>\n",
       "      <td>-0.72</td>\n",
       "      <td>-0.02</td>\n",
       "      <td>2022-12-31 23:45:00</td>\n",
       "      <td>2022-12-31 23:00:00</td>\n",
       "      <td>fast</td>\n",
       "    </tr>\n",
       "    <tr>\n",
       "      <th>210238</th>\n",
       "      <td>100</td>\n",
       "      <td>2.35</td>\n",
       "      <td>0.47</td>\n",
       "      <td>572.099976</td>\n",
       "      <td>2.38</td>\n",
       "      <td>81531.0</td>\n",
       "      <td>1.55</td>\n",
       "      <td>-0.61</td>\n",
       "      <td>8.0</td>\n",
       "      <td>13.55</td>\n",
       "      <td>-0.78</td>\n",
       "      <td>0.31</td>\n",
       "      <td>2022-12-31 23:50:00</td>\n",
       "      <td>2022-12-31 23:00:00</td>\n",
       "      <td>fast</td>\n",
       "    </tr>\n",
       "    <tr>\n",
       "      <th>210239</th>\n",
       "      <td>76</td>\n",
       "      <td>3.13</td>\n",
       "      <td>-0.60</td>\n",
       "      <td>572.400024</td>\n",
       "      <td>2.39</td>\n",
       "      <td>75092.0</td>\n",
       "      <td>1.57</td>\n",
       "      <td>-0.11</td>\n",
       "      <td>7.9</td>\n",
       "      <td>13.45</td>\n",
       "      <td>-0.69</td>\n",
       "      <td>0.24</td>\n",
       "      <td>2022-12-31 23:55:00</td>\n",
       "      <td>2022-12-31 23:00:00</td>\n",
       "      <td>fast</td>\n",
       "    </tr>\n",
       "  </tbody>\n",
       "</table>\n",
       "<p>194185 rows × 15 columns</p>\n",
       "</div>"
      ],
      "text/plain": [
       "        percent_interp  BY_GSE  BZ_GSE  flow_speed  proton_density        T  \\\n",
       "0                    0    0.58    0.93  358.899994            4.51  34062.0   \n",
       "1                    0    0.44    1.21  358.399994            4.22  34142.0   \n",
       "2                    0    0.04    1.46  359.100006            4.41  33812.0   \n",
       "3                   38   -0.52    1.43  359.899994            4.29  31964.0   \n",
       "4                   92   -1.11    1.67  360.600006            4.36  28132.0   \n",
       "...                ...     ...     ...         ...             ...      ...   \n",
       "210235             100    3.28   -0.87  572.799988            2.04  69130.0   \n",
       "210236             100    3.04   -1.88  583.200012            2.54  92632.0   \n",
       "210237             100    2.70   -1.44  565.599976            2.31  66356.0   \n",
       "210238             100    2.35    0.47  572.099976            2.38  81531.0   \n",
       "210239              76    3.13   -0.60  572.400024            2.39  75092.0   \n",
       "\n",
       "        Pressure     E  Mach_num  BSN_x  BSN_y  BSN_z Timestamp_1min_omni  \\\n",
       "0           1.16 -0.39      13.4  14.38  -1.67   0.51 2021-01-01 00:00:00   \n",
       "1           1.08 -0.46      12.3  14.50  -1.58   0.43 2021-01-01 00:05:00   \n",
       "2           1.14 -0.51      12.5  14.43  -1.60   0.46 2021-01-01 00:10:00   \n",
       "3           1.11 -0.45      12.2  14.46  -1.48   0.39 2021-01-01 00:15:00   \n",
       "4           1.13 -0.51      12.5  14.45  -1.47   0.47 2021-01-01 00:20:00   \n",
       "...          ...   ...       ...    ...    ...    ...                 ...   \n",
       "210235      1.34  0.01       7.3  13.50  -0.68   0.25 2022-12-31 23:35:00   \n",
       "210236      1.73  0.62       8.2  13.53  -0.52  -0.02 2022-12-31 23:40:00   \n",
       "210237      1.48  0.25       7.7  13.51  -0.72  -0.02 2022-12-31 23:45:00   \n",
       "210238      1.55 -0.61       8.0  13.55  -0.78   0.31 2022-12-31 23:50:00   \n",
       "210239      1.57 -0.11       7.9  13.45  -0.69   0.24 2022-12-31 23:55:00   \n",
       "\n",
       "        Timestamp_1hr_omni sw_cat  \n",
       "0      2021-01-01 00:00:00   slow  \n",
       "1      2021-01-01 00:00:00   slow  \n",
       "2      2021-01-01 00:00:00   slow  \n",
       "3      2021-01-01 00:00:00   slow  \n",
       "4      2021-01-01 00:00:00   slow  \n",
       "...                    ...    ...  \n",
       "210235 2022-12-31 23:00:00   fast  \n",
       "210236 2022-12-31 23:00:00   fast  \n",
       "210237 2022-12-31 23:00:00   fast  \n",
       "210238 2022-12-31 23:00:00   fast  \n",
       "210239 2022-12-31 23:00:00   fast  \n",
       "\n",
       "[194185 rows x 15 columns]"
      ]
     },
     "execution_count": 12,
     "metadata": {},
     "output_type": "execute_result"
    }
   ],
   "source": [
    "months_df = months_df[months_df['Mach_num']< 100]\n",
    "months_df['sw_cat'] = np.where(months_df['flow_speed'] < 400, 'slow', 'fast')\n",
    "#months_df = months_df[months_df['']< 100]\n",
    "months_df"
   ]
  },
  {
   "cell_type": "code",
   "execution_count": 13,
   "metadata": {},
   "outputs": [
    {
     "data": {
      "text/plain": [
       "<Axes: xlabel='Pressure', ylabel='Count'>"
      ]
     },
     "execution_count": 13,
     "metadata": {},
     "output_type": "execute_result"
    },
    {
     "data": {
      "image/png": "[encoded data removed]",
      "text/plain": [
       "<Figure size 640x480 with 1 Axes>"
      ]
     },
     "metadata": {},
     "output_type": "display_data"
    }
   ],
   "source": [
    "sns.histplot(months_df['Pressure'])"
   ]
  },
  {
   "cell_type": "code",
   "execution_count": 14,
   "metadata": {},
   "outputs": [
    {
     "data": {
      "image/png": "[encoded data removed]",
      "text/plain": [
       "<Figure size 450x450 with 3 Axes>"
      ]
     },
     "metadata": {},
     "output_type": "display_data"
    }
   ],
   "source": [
    "y = months_df['BSN_x']\n",
    "x = months_df['proton_density']\n",
    "r2 = x.corr(y)\n",
    "sns.jointplot(x=x, y=y, kind='scatter', s=20, height=4.5)\n",
    "RE = r'R$_E$'\n",
    "pcc = r'cm$^{-3}$'\n",
    "plt.xlabel(f'Proton Density [{pcc}]')\n",
    "plt.ylabel(f'Bow Shock Nose Location (GSE-X) [{RE}]')\n",
    "#plt.xlabel('Pressure [nPa]')\n",
    "\n",
    "#plt.ylabel('Electric Field [mV/m]')\n",
    "#plt.xlabel('Bz [nT]')\n",
    "\n",
    "r2_lab = r'R$^2$'    \n",
    "annotation = f'{r2_lab} = {r2:.2f}'\n",
    "plt.annotate(annotation, xy=(0.75, 0.5), xycoords='axes fraction', fontsize=11)\n",
    "plt.tight_layout()\n",
    "#plt.savefig('/Users/sr2/OneDrive - University College London/PhD/Experiences/Postdocs/JSPS/Research/Analysis/Apr-24/plots/omni/R2_Np_BSN.png', dpi=300)"
   ]
  },
  {
   "cell_type": "code",
   "execution_count": 15,
   "metadata": {},
   "outputs": [
    {
     "data": {
      "text/plain": [
       "<Axes: xlabel='BSN_x', ylabel='Count'>"
      ]
     },
     "execution_count": 15,
     "metadata": {},
     "output_type": "execute_result"
    },
    {
     "data": {
      "image/png": "[encoded data removed]",
      "text/plain": [
       "<Figure size 640x480 with 1 Axes>"
      ]
     },
     "metadata": {},
     "output_type": "display_data"
    }
   ],
   "source": [
    "sns.histplot(months_df['BSN_x'])"
   ]
  },
  {
   "cell_type": "code",
   "execution_count": 10,
   "metadata": {},
   "outputs": [
    {
     "ename": "ValueError",
     "evalue": "could not convert string to float: 'slow'",
     "output_type": "error",
     "traceback": [
      "\u001b[0;31m---------------------------------------------------------------------------\u001b[0m",
      "\u001b[0;31mValueError\u001b[0m                                Traceback (most recent call last)",
      "Cell \u001b[0;32mIn[10], line 2\u001b[0m\n\u001b[1;32m      1\u001b[0m plt\u001b[38;5;241m.\u001b[39mfigure(figsize\u001b[38;5;241m=\u001b[39m(\u001b[38;5;241m10\u001b[39m,\u001b[38;5;241m10\u001b[39m))\n\u001b[0;32m----> 2\u001b[0m sns\u001b[38;5;241m.\u001b[39mheatmap(\u001b[43mmonths_df\u001b[49m\u001b[38;5;241;43m.\u001b[39;49m\u001b[43mcorr\u001b[49m\u001b[43m(\u001b[49m\u001b[43m)\u001b[49m, annot\u001b[38;5;241m=\u001b[39m\u001b[38;5;28;01mTrue\u001b[39;00m, fmt\u001b[38;5;241m=\u001b[39m\u001b[38;5;124m\"\u001b[39m\u001b[38;5;124m.2f\u001b[39m\u001b[38;5;124m\"\u001b[39m, vmin\u001b[38;5;241m=\u001b[39m\u001b[38;5;241m-\u001b[39m\u001b[38;5;241m1\u001b[39m, vmax\u001b[38;5;241m=\u001b[39m\u001b[38;5;241m1\u001b[39m, cmap\u001b[38;5;241m=\u001b[39m\u001b[38;5;124m'\u001b[39m\u001b[38;5;124mcoolwarm\u001b[39m\u001b[38;5;124m'\u001b[39m)\n",
      "File \u001b[0;32m~/opt/anaconda3/envs/nipr_env/lib/python3.12/site-packages/pandas/core/frame.py:11036\u001b[0m, in \u001b[0;36mDataFrame.corr\u001b[0;34m(self, method, min_periods, numeric_only)\u001b[0m\n\u001b[1;32m  11034\u001b[0m cols \u001b[38;5;241m=\u001b[39m data\u001b[38;5;241m.\u001b[39mcolumns\n\u001b[1;32m  11035\u001b[0m idx \u001b[38;5;241m=\u001b[39m cols\u001b[38;5;241m.\u001b[39mcopy()\n\u001b[0;32m> 11036\u001b[0m mat \u001b[38;5;241m=\u001b[39m \u001b[43mdata\u001b[49m\u001b[38;5;241;43m.\u001b[39;49m\u001b[43mto_numpy\u001b[49m\u001b[43m(\u001b[49m\u001b[43mdtype\u001b[49m\u001b[38;5;241;43m=\u001b[39;49m\u001b[38;5;28;43mfloat\u001b[39;49m\u001b[43m,\u001b[49m\u001b[43m \u001b[49m\u001b[43mna_value\u001b[49m\u001b[38;5;241;43m=\u001b[39;49m\u001b[43mnp\u001b[49m\u001b[38;5;241;43m.\u001b[39;49m\u001b[43mnan\u001b[49m\u001b[43m,\u001b[49m\u001b[43m \u001b[49m\u001b[43mcopy\u001b[49m\u001b[38;5;241;43m=\u001b[39;49m\u001b[38;5;28;43;01mFalse\u001b[39;49;00m\u001b[43m)\u001b[49m\n\u001b[1;32m  11038\u001b[0m \u001b[38;5;28;01mif\u001b[39;00m method \u001b[38;5;241m==\u001b[39m \u001b[38;5;124m\"\u001b[39m\u001b[38;5;124mpearson\u001b[39m\u001b[38;5;124m\"\u001b[39m:\n\u001b[1;32m  11039\u001b[0m     correl \u001b[38;5;241m=\u001b[39m libalgos\u001b[38;5;241m.\u001b[39mnancorr(mat, minp\u001b[38;5;241m=\u001b[39mmin_periods)\n",
      "File \u001b[0;32m~/opt/anaconda3/envs/nipr_env/lib/python3.12/site-packages/pandas/core/frame.py:1981\u001b[0m, in \u001b[0;36mDataFrame.to_numpy\u001b[0;34m(self, dtype, copy, na_value)\u001b[0m\n\u001b[1;32m   1979\u001b[0m \u001b[38;5;28;01mif\u001b[39;00m dtype \u001b[38;5;129;01mis\u001b[39;00m \u001b[38;5;129;01mnot\u001b[39;00m \u001b[38;5;28;01mNone\u001b[39;00m:\n\u001b[1;32m   1980\u001b[0m     dtype \u001b[38;5;241m=\u001b[39m np\u001b[38;5;241m.\u001b[39mdtype(dtype)\n\u001b[0;32m-> 1981\u001b[0m result \u001b[38;5;241m=\u001b[39m \u001b[38;5;28;43mself\u001b[39;49m\u001b[38;5;241;43m.\u001b[39;49m\u001b[43m_mgr\u001b[49m\u001b[38;5;241;43m.\u001b[39;49m\u001b[43mas_array\u001b[49m\u001b[43m(\u001b[49m\u001b[43mdtype\u001b[49m\u001b[38;5;241;43m=\u001b[39;49m\u001b[43mdtype\u001b[49m\u001b[43m,\u001b[49m\u001b[43m \u001b[49m\u001b[43mcopy\u001b[49m\u001b[38;5;241;43m=\u001b[39;49m\u001b[43mcopy\u001b[49m\u001b[43m,\u001b[49m\u001b[43m \u001b[49m\u001b[43mna_value\u001b[49m\u001b[38;5;241;43m=\u001b[39;49m\u001b[43mna_value\u001b[49m\u001b[43m)\u001b[49m\n\u001b[1;32m   1982\u001b[0m \u001b[38;5;28;01mif\u001b[39;00m result\u001b[38;5;241m.\u001b[39mdtype \u001b[38;5;129;01mis\u001b[39;00m \u001b[38;5;129;01mnot\u001b[39;00m dtype:\n\u001b[1;32m   1983\u001b[0m     result \u001b[38;5;241m=\u001b[39m np\u001b[38;5;241m.\u001b[39marray(result, dtype\u001b[38;5;241m=\u001b[39mdtype, copy\u001b[38;5;241m=\u001b[39m\u001b[38;5;28;01mFalse\u001b[39;00m)\n",
      "File \u001b[0;32m~/opt/anaconda3/envs/nipr_env/lib/python3.12/site-packages/pandas/core/internals/managers.py:1692\u001b[0m, in \u001b[0;36mBlockManager.as_array\u001b[0;34m(self, dtype, copy, na_value)\u001b[0m\n\u001b[1;32m   1690\u001b[0m         arr\u001b[38;5;241m.\u001b[39mflags\u001b[38;5;241m.\u001b[39mwriteable \u001b[38;5;241m=\u001b[39m \u001b[38;5;28;01mFalse\u001b[39;00m\n\u001b[1;32m   1691\u001b[0m \u001b[38;5;28;01melse\u001b[39;00m:\n\u001b[0;32m-> 1692\u001b[0m     arr \u001b[38;5;241m=\u001b[39m \u001b[38;5;28;43mself\u001b[39;49m\u001b[38;5;241;43m.\u001b[39;49m\u001b[43m_interleave\u001b[49m\u001b[43m(\u001b[49m\u001b[43mdtype\u001b[49m\u001b[38;5;241;43m=\u001b[39;49m\u001b[43mdtype\u001b[49m\u001b[43m,\u001b[49m\u001b[43m \u001b[49m\u001b[43mna_value\u001b[49m\u001b[38;5;241;43m=\u001b[39;49m\u001b[43mna_value\u001b[49m\u001b[43m)\u001b[49m\n\u001b[1;32m   1693\u001b[0m     \u001b[38;5;66;03m# The underlying data was copied within _interleave, so no need\u001b[39;00m\n\u001b[1;32m   1694\u001b[0m     \u001b[38;5;66;03m# to further copy if copy=True or setting na_value\u001b[39;00m\n\u001b[1;32m   1696\u001b[0m \u001b[38;5;28;01mif\u001b[39;00m na_value \u001b[38;5;129;01mis\u001b[39;00m lib\u001b[38;5;241m.\u001b[39mno_default:\n",
      "File \u001b[0;32m~/opt/anaconda3/envs/nipr_env/lib/python3.12/site-packages/pandas/core/internals/managers.py:1751\u001b[0m, in \u001b[0;36mBlockManager._interleave\u001b[0;34m(self, dtype, na_value)\u001b[0m\n\u001b[1;32m   1749\u001b[0m     \u001b[38;5;28;01melse\u001b[39;00m:\n\u001b[1;32m   1750\u001b[0m         arr \u001b[38;5;241m=\u001b[39m blk\u001b[38;5;241m.\u001b[39mget_values(dtype)\n\u001b[0;32m-> 1751\u001b[0m     \u001b[43mresult\u001b[49m\u001b[43m[\u001b[49m\u001b[43mrl\u001b[49m\u001b[38;5;241;43m.\u001b[39;49m\u001b[43mindexer\u001b[49m\u001b[43m]\u001b[49m \u001b[38;5;241m=\u001b[39m arr\n\u001b[1;32m   1752\u001b[0m     itemmask[rl\u001b[38;5;241m.\u001b[39mindexer] \u001b[38;5;241m=\u001b[39m \u001b[38;5;241m1\u001b[39m\n\u001b[1;32m   1754\u001b[0m \u001b[38;5;28;01mif\u001b[39;00m \u001b[38;5;129;01mnot\u001b[39;00m itemmask\u001b[38;5;241m.\u001b[39mall():\n",
      "\u001b[0;31mValueError\u001b[0m: could not convert string to float: 'slow'"
     ]
    },
    {
     "data": {
      "text/plain": [
       "<Figure size 1000x1000 with 0 Axes>"
      ]
     },
     "metadata": {},
     "output_type": "display_data"
    }
   ],
   "source": [
    "plt.figure(figsize=(10,10))\n",
    "sns.heatmap(months_df.corr(), annot=True, fmt=\".2f\", vmin=-1, vmax=1, cmap='coolwarm')"
   ]
  },
  {
   "cell_type": "code",
   "execution_count": null,
   "metadata": {},
   "outputs": [],
   "source": [
    "#sns.jointplot(data=months_df, x='BSN_z', y='Pressure', kind='scatter')"
   ]
  }
 ],
 "metadata": {
  "kernelspec": {
   "display_name": "nipr_env",
   "language": "python",
   "name": "python3"
  },
  "language_info": {
   "codemirror_mode": {
    "name": "ipython",
    "version": 3
   },
   "file_extension": ".py",
   "mimetype": "text/x-python",
   "name": "python",
   "nbconvert_exporter": "python",
   "pygments_lexer": "ipython3",
   "version": "3.12.2"
  }
 },
 "nbformat": 4,
 "nbformat_minor": 2
}
