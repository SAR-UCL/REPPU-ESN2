{
 "cells": [
  {
   "cell_type": "code",
   "execution_count": 1,
   "metadata": {},
   "outputs": [],
   "source": [
    "import numpy as np"
   ]
  },
  {
   "cell_type": "code",
   "execution_count": 41,
   "metadata": {},
   "outputs": [
    {
     "data": {
      "text/plain": [
       "array([10.04987562,  1.        ,  1.        ])"
      ]
     },
     "execution_count": 41,
     "metadata": {},
     "output_type": "execute_result"
    }
   ],
   "source": [
    "def calculate_clock_angle(Bz, By):\n",
    "    angle = np.rad2deg(np.arctan2(By, Bz))  # Calculate angle\n",
    "    return np.round(angle,1)\n",
    "\n",
    "def calculate_clock_length(Bz, By):\n",
    "    return np.sqrt(Bz**2 + By**2)\n",
    "\n",
    "# Example usage:\n",
    "Bz = np.array([1, 0, -1])\n",
    "By = np.array([10, 1, 0])\n",
    "\n",
    "calculate_clock_angle(Bz, By)\n",
    "calculate_clock_length(Bz, By)"
   ]
  },
  {
   "cell_type": "code",
   "execution_count": 92,
   "metadata": {},
   "outputs": [
    {
     "name": "stdout",
     "output_type": "stream",
     "text": [
      "E in mV [ 0.    0.01 -0.  ]\n"
     ]
    }
   ],
   "source": [
    "def E_calulator(v, B):\n",
    "    return np.cross(v, B)\n",
    "\n",
    "v = np.array([-400, 0, 0]) #400 km/s\n",
    "B = np.array([0, 0, 2.5e-5]) #2.5e-5 T = 25,000 nT\n",
    "\n",
    "#x, y, z in GSE\n",
    "#x is earth-sun line, y points to dusk, z is north/south\n",
    "\n",
    "E_calulator(v, B)\n",
    "print('E in mV', E_calulator(v, B))"
   ]
  },
  {
   "cell_type": "code",
   "execution_count": 94,
   "metadata": {},
   "outputs": [
    {
     "name": "stdout",
     "output_type": "stream",
     "text": [
      "B in T: [-0.  0. -4.]\n"
     ]
    }
   ],
   "source": [
    "def B_calculator(v, E):\n",
    "    return np.cross(v, E)\n",
    "\n",
    "B_result = B_calculator(v, E_calulator(v, B))\n",
    "print('B in T:', B_result)\n"
   ]
  },
  {
   "cell_type": "code",
   "execution_count": null,
   "metadata": {},
   "outputs": [],
   "source": []
  }
 ],
 "metadata": {
  "kernelspec": {
   "display_name": "nipr_env",
   "language": "python",
   "name": "python3"
  },
  "language_info": {
   "codemirror_mode": {
    "name": "ipython",
    "version": 3
   },
   "file_extension": ".py",
   "mimetype": "text/x-python",
   "name": "python",
   "nbconvert_exporter": "python",
   "pygments_lexer": "ipython3",
   "version": "3.12.2"
  }
 },
 "nbformat": 4,
 "nbformat_minor": 2
}
